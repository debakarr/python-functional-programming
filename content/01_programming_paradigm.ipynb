{
 "cells": [
  {
   "cell_type": "markdown",
   "id": "43a94e48-dd39-4792-90e5-634dbc189186",
   "metadata": {
    "editable": true,
    "slideshow": {
     "slide_type": ""
    },
    "tags": []
   },
   "source": [
    "[<< | [Index](./00_index.ipynb) | [Functional Programming](./02_functional_programming.ipynb) >>]"
   ]
  },
  {
   "cell_type": "markdown",
   "id": "9fb215a4-7418-4f59-b945-5dd0238d90be",
   "metadata": {
    "slideshow": {
     "slide_type": "slide"
    },
    "tags": []
   },
   "source": [
    "# Programming Pradigm"
   ]
  },
  {
   "cell_type": "markdown",
   "id": "6df9a5c6-bb32-410f-8eb9-622768599306",
   "metadata": {
    "slideshow": {
     "slide_type": "subslide"
    },
    "tags": []
   },
   "source": [
    "## Main Programming Paradigms\n",
    "\n",
    "| Paradigm | Description | Main Traits | Related Paradigm(s) | Examples |\n",
    "|----------|-------------|-------------|---------------------|----------|\n",
    "| **Imperative** | Programs as statements that directly change computed state (data fields) | Direct assignments, common data structures, global variables |  | C, C++, Java, Kotlin, PHP, Python, Ruby |\n",
    "| **Declarative** | Defines program logic, but not detailed control flow | Fourth-generation languages, spreadsheets, report program generators |  | SQL, regular expressions, Prolog, OWL, SPARQL, Datalog, XSLT |\n",
    "\n",
    "[Source: Wikipedia](https://en.wikipedia.org/wiki/Comparison_of_programming_paradigms)"
   ]
  },
  {
   "cell_type": "markdown",
   "id": "dff56318-178a-4565-982c-14fe8429724f",
   "metadata": {
    "slideshow": {
     "slide_type": "subslide"
    },
    "tags": []
   },
   "source": [
    "### Practical Example\n",
    "\n",
    "[Source: StackOverflow](https://stackoverflow.com/questions/10925689/functional-programming-vs-declarative-programming-vs-imperative-programming)"
   ]
  },
  {
   "cell_type": "markdown",
   "id": "5ddfc9fc-1acd-4c7f-b8ec-634d0f020f9a",
   "metadata": {
    "slideshow": {
     "slide_type": "subslide"
    },
    "tags": []
   },
   "source": [
    "#### Imperative\n",
    "\n",
    "```python\n",
    "income_m = 0\n",
    "income_f = 0\n",
    "for i in range(len(income_list)):\n",
    "    if income_list[i]['gender'] == 'M':\n",
    "        income_m += income_list[i]['income']\n",
    "    else:\n",
    "        income_f += income_list[i]['income']\n",
    "```\n",
    "\n",
    "- *Control Flow*: Imperative programming is more about control flow: loops, conditionals, and subroutines.\n",
    "- *State Changes*: It involves explicit manipulation of the state. For example, you have to manually initialize income_m and income_f and then update them based on the condition.\n",
    "- *Low Level*: It's more low-level and verbose. You need to write more code to achieve the same result."
   ]
  },
  {
   "cell_type": "markdown",
   "id": "e541a572-72b6-4d5a-9c79-86e6109dac79",
   "metadata": {
    "slideshow": {
     "slide_type": "subslide"
    },
    "tags": []
   },
   "source": [
    "#### Declarative\n",
    "\n",
    "```sql\n",
    "select gender, sum(income)\n",
    "from income_list\n",
    "group by gender;\n",
    "```\n",
    "\n",
    "- *Outcome Focused*: Declarative programming is more about the outcome. You specify what you want, not how to get it.\n",
    "- *No State Changes*: It doesn't involve explicit state manipulation. You don't have to manually manage the state of income_m and income_f.\n",
    "- *High Level*: It's more high-level and succinct. You can achieve the result in less code."
   ]
  },
  {
   "cell_type": "markdown",
   "id": "2e5145f6-c295-4167-99ea-8035f532f650",
   "metadata": {
    "slideshow": {
     "slide_type": "subslide"
    },
    "tags": []
   },
   "source": [
    "## Widely Considered Main Programming Paradigms\n",
    "\n",
    "| Paradigm | Description | Examples |\n",
    "|----------|-------------|----------|\n",
    "| **Procedural** | Specifies the steps a program must take to reach a desired state | C, C++, Lisp, PHP, Python |\n",
    "| **Functional** | Treats programs as evaluating mathematical functions and avoids state and mutable data | C++, C#, Clojure, CoffeeScript, Elixir, Erlang, F#, Haskell, Java (since version 8), Kotlin, Lisp, Python, R, Ruby, Scala, SequenceL, Standard ML, JavaScript, Elm |\n",
    "| **Object-oriented (OOP)** | Organizes programs as objects: data structures consisting of attributes and methods together with their interactions | Common Lisp, C++, C#, Eiffel, Java, Kotlin, PHP, Python, Ruby, Scala, JavaScript |"
   ]
  },
  {
   "cell_type": "markdown",
   "id": "b1ede1e2-0694-4859-8d20-f3fe3b946a38",
   "metadata": {
    "slideshow": {
     "slide_type": "subslide"
    },
    "tags": []
   },
   "source": [
    "**Procedural Programming:**\n",
    "\n",
    "- The primary tool is an operation or function, which is a sequence of computational steps to be carried out.\n",
    "- Operations can invoke external actions, modify memory, or perform calculations.\n",
    "- Programs are created by chaining these operations together.\n",
    "- Execution happens sequentially, running these steps one by one, modifying memory and other computer state until the program is done."
   ]
  },
  {
   "cell_type": "code",
   "execution_count": 7,
   "id": "125ae76f-55cb-4ea8-9402-cd1270c5ed90",
   "metadata": {
    "slideshow": {
     "slide_type": "fragment"
    },
    "tags": []
   },
   "outputs": [
    {
     "name": "stdout",
     "output_type": "stream",
     "text": [
      "result = 300\n"
     ]
    }
   ],
   "source": [
    "num_list = [1, 2, 3, 4, 5, 6, 7, 8, 9, 10]\n",
    "result = 0\n",
    "for i in num_list:\n",
    "    if i % 2 == 0:\n",
    "        result += i * 10\n",
    "\n",
    "print(f\"{result = }\")"
   ]
  },
  {
   "cell_type": "markdown",
   "id": "4084ebc6-7bc4-464e-8cb6-854dff4ad78c",
   "metadata": {
    "slideshow": {
     "slide_type": "subslide"
    },
    "tags": []
   },
   "source": [
    "**Functional Programming:**\n",
    "\n",
    "- The primary tools are functions, in the mathematical sense - they take some input and give you back some output.\n",
    "- Functions are pure computations and do not cause side effects. They can only do internal operations and return a result.\n",
    "- Programs are created by chaining these functions together to form a pipeline.\n",
    "- Execution happens by the functional language runtime getting some data, sending it into your pipeline of functions, and then doing something with the result."
   ]
  },
  {
   "cell_type": "code",
   "execution_count": 8,
   "id": "604b98fd-9205-4453-a775-71f0f7db4e4c",
   "metadata": {
    "slideshow": {
     "slide_type": "fragment"
    },
    "tags": []
   },
   "outputs": [
    {
     "name": "stdout",
     "output_type": "stream",
     "text": [
      "result = 300\n"
     ]
    }
   ],
   "source": [
    "from functools import reduce\n",
    "\n",
    "num_list = [1, 2, 3, 4, 5, 6, 7, 8, 9, 10]\n",
    "result = reduce(\n",
    "    lambda a, b: a + b,\n",
    "    map(\n",
    "        lambda a: a * 10,\n",
    "        filter(lambda n: n % 2 == 0, num_list),\n",
    "    ),\n",
    ")\n",
    "print(f\"{result = }\")"
   ]
  },
  {
   "cell_type": "markdown",
   "id": "c1dfae45-163c-4e1f-a4d3-3eb60fa0961e",
   "metadata": {
    "slideshow": {
     "slide_type": "subslide"
    },
    "tags": []
   },
   "source": [
    "**Object-Oriented Programming (OOP):**\n",
    "\n",
    "- The primary tools are classes, which act like blueprints or templates.\n",
    "- Classes are used to create objects, which are entities with their own internal state and behavior.\n",
    "- Behavior of an object can be triggered by passing a message to it or calling a method on it.\n",
    "- The behavior that you trigger is specified by the class that created the object.\n",
    "- Execution happens as objects interact with other objects by triggering actions using the native mechanism."
   ]
  },
  {
   "cell_type": "markdown",
   "id": "7ea6d68d-d721-46b4-8318-84af4779900b",
   "metadata": {},
   "source": [
    "[<< | [Index](./00_index.ipynb) | [Functional Programming](./02_functional_programming.ipynb) >>]"
   ]
  }
 ],
 "metadata": {
  "kernelspec": {
   "display_name": "Python 3 (ipykernel)",
   "language": "python",
   "name": "python3"
  },
  "language_info": {
   "codemirror_mode": {
    "name": "ipython",
    "version": 3
   },
   "file_extension": ".py",
   "mimetype": "text/x-python",
   "name": "python",
   "nbconvert_exporter": "python",
   "pygments_lexer": "ipython3",
   "version": "3.8.10"
  }
 },
 "nbformat": 4,
 "nbformat_minor": 5
}
