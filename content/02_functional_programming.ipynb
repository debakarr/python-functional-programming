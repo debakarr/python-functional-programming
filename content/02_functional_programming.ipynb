{
 "cells": [
  {
   "cell_type": "markdown",
   "id": "e5cf5a2e-5e50-4500-9ae0-9642eb5c67c4",
   "metadata": {
    "editable": true,
    "slideshow": {
     "slide_type": "skip"
    },
    "tags": []
   },
   "source": [
    "[<< [Programming Paradigm](./01_programming_paradigm.ipynb) | [Index](./00_index.ipynb) | [First-Class and High Order Functions](./03_first_class_and_higher_order_functions.ipynb) >>]"
   ]
  },
  {
   "cell_type": "markdown",
   "id": "ee84bd17-23f3-45c4-8ee2-1f72c8fff733",
   "metadata": {
    "slideshow": {
     "slide_type": "slide"
    },
    "tags": []
   },
   "source": [
    "# Functional Programming"
   ]
  },
  {
   "cell_type": "markdown",
   "id": "8841e7e9-7f47-41a6-ba04-6ef4bf1c8bfe",
   "metadata": {
    "editable": true,
    "slideshow": {
     "slide_type": "subslide"
    },
    "tags": []
   },
   "source": [
    "Functional programming (FP) is a programming paradigm that treats computation as the evaluation of mathematical functions and avoids changing-state and mutable data.\n",
    "\n",
    "It is a practical implementation of `Alonzo Church's lambda calculus`. However, not all lambda calculus ideas are applicable in practice due to physical limitations. It was created in the 1950s and developed significantly in the 1960s with the introduction of the `Lisp programming language`."
   ]
  },
  {
   "cell_type": "markdown",
   "id": "eb1e1ca3-7203-4801-a265-39ea07467d2a",
   "metadata": {
    "editable": true,
    "slideshow": {
     "slide_type": "subslide"
    },
    "tags": []
   },
   "source": [
    "[![Lambda Calculus](https://img.youtube.com/vi/eis11j_iGMs/0.jpg)](https://www.youtube.com/watch?v=eis11j_iGMs)"
   ]
  },
  {
   "cell_type": "markdown",
   "id": "d4a7f4a3-1262-4edb-92d0-7def635fa716",
   "metadata": {
    "editable": true,
    "slideshow": {
     "slide_type": "subslide"
    },
    "tags": []
   },
   "source": [
    "## Key Features\n",
    "\n",
    "1. **Immutability**: Unchangeable states enhance clarity.\n",
    "2. **Pure Functions**: Consistent outputs enhance predictability.\n",
    "3. **First-Class & Higher Order Functions**: Functions are flexible entities.\n",
    "4. **Recursion**: Preferred control structure in FP.\n",
    "5. **Referential Transparency**: Allows compiler optimizations.\n",
    "6. **Function Composition**: Solves complex problems simply.\n",
    "7. **Lazy Evaluation**: Increases efficiency and enables infinite structures.\n",
    "8. **Typing**: Prevents unwanted behavior, reduces effort.\n",
    "9. **Pattern Matching**: Powerful version of switch statements.\n",
    "10. **Concurrency**: Excellent support due to no state changes."
   ]
  },
  {
   "cell_type": "markdown",
   "id": "c60e2fd7-ea0d-4e0a-9757-9337fb23fbc3",
   "metadata": {
    "editable": true,
    "slideshow": {
     "slide_type": "subslide"
    },
    "tags": []
   },
   "source": [
    "## Advantages - Simplified\n",
    "\n",
    "1. **Unit Testing**: Simplifies testing, enhances quality.\n",
    "2. **Debugging**: Easier due to predictable behavior.\n",
    "3. **Concurrency**: Ideal for high concurrency, avoids deadlocks.\n",
    "4. **Optimization**: Leverages multi-core CPUs.\n",
    "5. **Hot Code Deployment**: Enables non-interruptive software updates."
   ]
  },
  {
   "cell_type": "markdown",
   "id": "4345007e-ee9d-441a-bcbe-f5c19cbd7e39",
   "metadata": {
    "editable": true,
    "slideshow": {
     "slide_type": "subslide"
    },
    "tags": []
   },
   "source": [
    "## Disadvantages - Simplified\n",
    "\n",
    "1. **Unpredictable Performance**: Dependency on garbage collection affects responsiveness.\n",
    "2. **Garbage Collection**: Complicates performance prediction.\n",
    "3. **Laziness**: Makes performance analysis harder.\n",
    "4. **Learning Curve**: Departure from conventional programming deters some.\n",
    "5. **Algorithms & Data Structures**: Challenging implementation in FP.\n",
    "6. **New Paradigms**: Requires learning new concepts.\n",
    "7. **Persistent Data Structures**: Enhances efficiency, not common in imperative programming.\n",
    "8. **Functional Reactive Programming (FRP)**: Still being explored, potential performance issues."
   ]
  },
  {
   "cell_type": "markdown",
   "id": "742378b4-d1df-4103-b846-df5eee686fbe",
   "metadata": {
    "editable": true,
    "slideshow": {
     "slide_type": "subslide"
    },
    "tags": []
   },
   "source": [
    "From next section onwards we will be discussing these topics:\n",
    "First-Class and High Order Functions; Pure Functions, Immutability and side effects; Referential transparency; Recursion and Lazy evaluation; Predicate and Idempotent; Closures; Partial function and Partial Application; Currying; Singledispatch; Functors, Applicative functors and Monads\n",
    "\n",
    "[![Functional Programming](https://img.youtube.com/vi/HlgG395PQWw/0.jpg)](https://www.youtube.com/watch?v=HlgG395PQWw)"
   ]
  },
  {
   "cell_type": "markdown",
   "id": "2cbb0134-211f-493c-a3ff-125cb061a151",
   "metadata": {
    "editable": true,
    "slideshow": {
     "slide_type": "skip"
    },
    "tags": []
   },
   "source": [
    "[<< [Programming Paradigm](./01_programming_paradigm.ipynb) | [Index](./00_index.ipynb) | [First-Class and High Order Functions](./03_first_class_and_higher_order_functions.ipynb) >>]"
   ]
  }
 ],
 "metadata": {
  "kernelspec": {
   "display_name": "Python 3 (ipykernel)",
   "language": "python",
   "name": "python3"
  },
  "language_info": {
   "codemirror_mode": {
    "name": "ipython",
    "version": 3
   },
   "file_extension": ".py",
   "mimetype": "text/x-python",
   "name": "python",
   "nbconvert_exporter": "python",
   "pygments_lexer": "ipython3",
   "version": "3.8.10"
  }
 },
 "nbformat": 4,
 "nbformat_minor": 5
}
