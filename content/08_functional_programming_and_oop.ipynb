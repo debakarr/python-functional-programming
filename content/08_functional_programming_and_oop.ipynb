{
 "cells": [
  {
   "cell_type": "markdown",
   "id": "48c0aade-470c-4fea-aa09-b71234d84dc4",
   "metadata": {
    "editable": true,
    "slideshow": {
     "slide_type": ""
    },
    "tags": []
   },
   "source": [
    "[<< [Intermediate Function Concepts](./07_intermediate_function_concepts.ipynb) | [Index](./00_index.ipynb) | [Advanced Functional Programming Concepts](./09_advanced_functional_programming_concepts.ipynb) >>]"
   ]
  },
  {
   "cell_type": "markdown",
   "id": "91f8581e-dd21-4414-b111-0180b17e4a58",
   "metadata": {},
   "source": [
    "## Single Dispatch\n",
    "\n",
    "- [Single Dispatch](https://en.wikipedia.org/wiki/Dynamic_dispatch#Single_and_multiple_dispatch) is a method used in object-oriented programming where the operation performed by a function call is determined by the runtime type of the single object on which it is invoked.\n",
    "- It's a fundamental mechanism that enables polymorphism in object-oriented programming.\n",
    "- In functional programming, single dispatch can be used in conjunction with data structures to determine which function to execute.\n",
    "- Languages like Python provide decorators like `@singledispatch` to transform ordinary functions into single-dispatch generic functions.\n",
    "- This allows for cleaner, more readable code by enabling the function to operate on objects of different types in different ways."
   ]
  },
  {
   "cell_type": "code",
   "execution_count": 1,
   "id": "54534a7b-c85b-4a11-9fd9-5950a5fa109c",
   "metadata": {},
   "outputs": [],
   "source": [
    "import math\n",
    "\n",
    "\n",
    "class Circle:\n",
    "    def __init__(self, radius):\n",
    "        self.radius = radius\n",
    "\n",
    "\n",
    "class Square:\n",
    "    def __init__(self, side):\n",
    "        self.side = side\n",
    "\n",
    "\n",
    "class Rectangle:\n",
    "    def __init__(self, length, width):\n",
    "        self.length = length\n",
    "        self.width = width\n",
    "\n",
    "\n",
    "class Triangle:\n",
    "    def __init__(self, base, height):\n",
    "        self.base = base\n",
    "        self.height = height"
   ]
  },
  {
   "cell_type": "code",
   "execution_count": 2,
   "id": "a203af02-435f-420f-a490-887973ed8433",
   "metadata": {},
   "outputs": [],
   "source": [
    "circle = Circle(10)\n",
    "square = Square(20)\n",
    "rectangle = Rectangle(10, 20)\n",
    "traingle = Triangle(20, 30)"
   ]
  },
  {
   "cell_type": "markdown",
   "id": "72936ed8-47a3-41a7-afb9-ef32bbd1b94f",
   "metadata": {},
   "source": [
    "**if/else way:**"
   ]
  },
  {
   "cell_type": "code",
   "execution_count": 3,
   "id": "3137e389-5484-4f78-b5ea-f7ea1ec88de4",
   "metadata": {},
   "outputs": [
    {
     "name": "stdout",
     "output_type": "stream",
     "text": [
      "calculate_area(circle) = 314.1592653589793\n",
      "calculate_area(square) = 400\n",
      "calculate_area(rectangle) = 200\n",
      "calculate_area(traingle) = 300.0\n"
     ]
    }
   ],
   "source": [
    "def calculate_area(shape):\n",
    "    if isinstance(shape, Circle):\n",
    "        return math.pi * (shape.radius**2)\n",
    "    elif isinstance(shape, Square):\n",
    "        return shape.side**2\n",
    "    elif isinstance(shape, Rectangle):\n",
    "        return shape.length * shape.width\n",
    "    elif isinstance(shape, Triangle):\n",
    "        return 0.5 * shape.base * shape.height\n",
    "    else:\n",
    "        raise TypeError(\"Invalid shape type\")\n",
    "\n",
    "\n",
    "print(f\"{calculate_area(circle) = }\")\n",
    "print(f\"{calculate_area(square) = }\")\n",
    "print(f\"{calculate_area(rectangle) = }\")\n",
    "print(f\"{calculate_area(traingle) = }\")"
   ]
  },
  {
   "cell_type": "markdown",
   "id": "94f64431-011d-4c7e-ae1a-9046e1191b5a",
   "metadata": {},
   "source": [
    "**match/case way:**"
   ]
  },
  {
   "cell_type": "code",
   "execution_count": 4,
   "id": "1ceef6c0-dbf0-4988-92f6-b90da7d1bdae",
   "metadata": {
    "editable": true,
    "slideshow": {
     "slide_type": ""
    },
    "tags": [
     "raises-exception"
    ]
   },
   "outputs": [
    {
     "ename": "SyntaxError",
     "evalue": "invalid syntax (1975833160.py, line 2)",
     "output_type": "error",
     "traceback": [
      "\u001b[1;36m  Cell \u001b[1;32mIn[4], line 2\u001b[1;36m\u001b[0m\n\u001b[1;33m    match shape:\u001b[0m\n\u001b[1;37m          ^\u001b[0m\n\u001b[1;31mSyntaxError\u001b[0m\u001b[1;31m:\u001b[0m invalid syntax\n"
     ]
    }
   ],
   "source": [
    "def calculate_area(shape):\n",
    "    match shape:\n",
    "        case Circle(radius=r):\n",
    "            return math.pi * (r**2)\n",
    "        case Square(side=s):\n",
    "            return s**2\n",
    "        case Rectangle(length=l, width=w):\n",
    "            return l * w\n",
    "        case Triangle(base=b, height=h):\n",
    "            return 0.5 * b * h\n",
    "        case _:\n",
    "            raise TypeError(\"Invalid shape type\")\n",
    "\n",
    "\n",
    "print(f\"{calculate_area(circle) = }\")\n",
    "print(f\"{calculate_area(square) = }\")\n",
    "print(f\"{calculate_area(rectangle) = }\")\n",
    "print(f\"{calculate_area(traingle) = }\")"
   ]
  },
  {
   "cell_type": "markdown",
   "id": "427fffb4-05d9-43e3-8de2-f154e81dff47",
   "metadata": {},
   "source": [
    "**@singledispatch way:**"
   ]
  },
  {
   "cell_type": "code",
   "execution_count": 5,
   "id": "9c3ada57-326d-435f-8408-e541ae11df61",
   "metadata": {},
   "outputs": [
    {
     "name": "stdout",
     "output_type": "stream",
     "text": [
      "calculate_area(circle) = 314.1592653589793\n",
      "calculate_area(square) = 400\n",
      "calculate_area(rectangle) = 200\n",
      "calculate_area(traingle) = 300.0\n"
     ]
    }
   ],
   "source": [
    "from functools import singledispatch\n",
    "\n",
    "\n",
    "@singledispatch\n",
    "def calculate_area(shape) -> None:\n",
    "    raise TypeError(\"Invalid shape type\")\n",
    "\n",
    "\n",
    "@calculate_area.register\n",
    "def _(shape: Circle) -> float:\n",
    "    return math.pi * (shape.radius**2)\n",
    "\n",
    "\n",
    "@calculate_area.register\n",
    "def _(shape: Square) -> int:\n",
    "    return shape.side**2\n",
    "\n",
    "\n",
    "@calculate_area.register\n",
    "def _(shape: Rectangle) -> int:\n",
    "    return shape.length * shape.width\n",
    "\n",
    "\n",
    "@calculate_area.register\n",
    "def _(shape: Triangle) -> float:\n",
    "    return 0.5 * shape.base * shape.height\n",
    "\n",
    "\n",
    "print(f\"{calculate_area(circle) = }\")\n",
    "print(f\"{calculate_area(square) = }\")\n",
    "print(f\"{calculate_area(rectangle) = }\")\n",
    "print(f\"{calculate_area(traingle) = }\")"
   ]
  },
  {
   "cell_type": "markdown",
   "id": "8c9c3dea-2e2a-42e6-8552-2ffc5b722808",
   "metadata": {
    "editable": true,
    "slideshow": {
     "slide_type": ""
    },
    "tags": []
   },
   "source": [
    "[<< [Intermediate Function Concepts](./07_intermediate_function_concepts.ipynb) | [Index](./00_index.ipynb) | [Advanced Functional Programming Concepts](./09_advanced_functional_programming_concepts.ipynb) >>]"
   ]
  }
 ],
 "metadata": {
  "kernelspec": {
   "display_name": "Python 3 (ipykernel)",
   "language": "python",
   "name": "python3"
  },
  "language_info": {
   "codemirror_mode": {
    "name": "ipython",
    "version": 3
   },
   "file_extension": ".py",
   "mimetype": "text/x-python",
   "name": "python",
   "nbconvert_exporter": "python",
   "pygments_lexer": "ipython3",
   "version": "3.8.10"
  }
 },
 "nbformat": 4,
 "nbformat_minor": 5
}
