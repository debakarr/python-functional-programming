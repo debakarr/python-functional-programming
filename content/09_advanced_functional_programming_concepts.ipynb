{
 "cells": [
  {
   "cell_type": "markdown",
   "id": "0b5df32c-c972-4558-b646-91fc855e35f5",
   "metadata": {
    "editable": true,
    "slideshow": {
     "slide_type": ""
    },
    "tags": []
   },
   "source": [
    "[<< [Functional Programming and OOP Intersection](./08_functional_programming_and_oop.ipynb) | [Index](./00_index.ipynb) | >>]"
   ]
  },
  {
   "cell_type": "markdown",
   "id": "2025704c-9146-4b5b-8a33-04e8e4e5c025",
   "metadata": {
    "editable": true,
    "slideshow": {
     "slide_type": ""
    },
    "tags": []
   },
   "source": [
    "There is a great [article with visualization for Functors, Applicative and Monad](https://www.adit.io/posts/2013-04-17-functors,_applicatives,_and_monads_in_pictures.html)"
   ]
  },
  {
   "cell_type": "markdown",
   "id": "e4f0de40-4ac6-49d7-a35a-1a2caedb5af8",
   "metadata": {
    "editable": true,
    "slideshow": {
     "slide_type": ""
    },
    "tags": []
   },
   "source": [
    "[![Monad](https://img.youtube.com/vi/e6tWJD5q8uw/0.jpg)](https://www.youtube.com/watch?v=e6tWJD5q8uw)"
   ]
  },
  {
   "cell_type": "markdown",
   "id": "138dd2d8-429a-4381-a07f-b1a0d90d9d70",
   "metadata": {
    "editable": true,
    "slideshow": {
     "slide_type": ""
    },
    "tags": []
   },
   "source": [
    "## Functors\n",
    "\n",
    "- A [Functor](https://en.wikipedia.org/wiki/Functor) in functional programming is a type that implements a map operation, which applies a function to a wrapped value.\n",
    "- It's a way to apply a function over or around some structure that we don’t want to alter, like a list, Maybe, or a Tree.\n",
    "- Functors must obey two laws: identity (if we map the id function over a functor, the functor that we get back should be the same as the original functor) and composition (composing two functions and then mapping the resulting function over a functor should be the same as first mapping one function over the functor and then mapping the other one).\n",
    "- They are used to abstract over data types that can be mapped over, and provide a consistent interface for applying functions to values in a context."
   ]
  },
  {
   "cell_type": "code",
   "execution_count": 5,
   "id": "1d2bef34-aaa0-47b8-aa99-7e297654558c",
   "metadata": {},
   "outputs": [],
   "source": [
    "# All iterators are funtors\n",
    "numbers = [1, 2, 3, 4, 5]\n",
    "\n",
    "# identity (if we map the id function over a functor, the functor that we get back should be the same as the original functor)\n",
    "identity = lambda num: num\n",
    "assert list(map(identity, numbers)) == numbers\n",
    "\n",
    "# composition (composing two functions and then mapping the resulting function over a functor should be the same as first mapping one function over the functor and then mapping the other one)\n",
    "increment = lambda num: num + 1\n",
    "square = lambda num: num ** 2\n",
    "\n",
    "# map(f(g(x)))\n",
    "value1 = map(lambda num: square(increment(num)), numbers)\n",
    "# map(f, map(g(x)))\n",
    "value2 = map(square, map(increment, numbers))\n",
    "assert list(value1) == list(value2)"
   ]
  },
  {
   "cell_type": "markdown",
   "id": "42003213-4d27-42ba-8774-c4e8139ea715",
   "metadata": {},
   "source": [
    "## Applicative Functors\n",
    "\n",
    "- An [Applicative Functor](https://en.wikipedia.org/wiki/Applicative_functor) is a type of functor that allows for function application within a computational context.\n",
    "- They provide a structure for applying a function wrapped in a context to a value wrapped in a context (or another function wrapped in a context).\n",
    "- Applicative functors must obey two laws: identity (applying the pure id function to a value should give the same value) and homomorphism (applying a function to a value should be the same as applying a function to a value and then applying pure).\n",
    "- Applicative functors are more powerful than regular functors, and are used when values of computations depend on each other.\n",
    "- They are a fundamental concept in languages like Haskell, and are used in other languages like JavaScript and Python through libraries."
   ]
  },
  {
   "cell_type": "markdown",
   "id": "cc16ad60-2eb8-4fb9-bd01-ab3e995f8477",
   "metadata": {},
   "source": [
    "## Monad\n",
    "\n",
    "- A [Monad](https://en.wikipedia.org/wiki/Monad_(functional_programming)) in functional programming is a design pattern that allows function sequencing and defines how functions, actions, inputs, and outputs can be used together.\n",
    "- It's a type of computational structure that encapsulates operations over elements while providing a way to chain these operations together.\n",
    "- Monads have three primary properties: unit (or return), bind (or >>=), and associativity.\n",
    "- They are used to handle side-effectful operations, encapsulate I/O actions, manage state, handle exceptions, and more.\n",
    "- Monads are a fundamental part of Haskell and have been adapted for use in other languages like JavaScript and Python."
   ]
  },
  {
   "cell_type": "markdown",
   "id": "66213dcd-caf8-48cc-96ba-5f885ac8124d",
   "metadata": {
    "editable": true,
    "slideshow": {
     "slide_type": ""
    },
    "tags": []
   },
   "source": [
    "[![Monad](https://img.youtube.com/vi/t1e8gqXLbsU/0.jpg)](https://www.youtube.com/watch?v=t1e8gqXLbsU)"
   ]
  },
  {
   "cell_type": "markdown",
   "id": "93b62129-9c88-4149-a3e8-95b7b9b14f03",
   "metadata": {
    "editable": true,
    "slideshow": {
     "slide_type": ""
    },
    "tags": []
   },
   "source": [
    "**Need for Monad?**\n",
    "(Showing example of `Maybe` monad, because I have found use case of this while working)"
   ]
  },
  {
   "cell_type": "code",
   "execution_count": 1,
   "id": "4bd77a27-6e2f-4660-b08a-2ddb68578ad8",
   "metadata": {
    "editable": true,
    "jupyter": {
     "source_hidden": true
    },
    "slideshow": {
     "slide_type": ""
    },
    "tags": []
   },
   "outputs": [
    {
     "name": "stdout",
     "output_type": "stream",
     "text": [
      "Company: 'Intel'\n",
      "   - Department: 'Engineering'\n",
      "     - Team: 'Design'\n",
      "       - Employee: 'Ramesh Kumar'\n",
      "       - Employee: 'Sunita Sharma'\n",
      "     - Team: 'Testing'\n",
      "       - Employee: 'Priya Singh'\n",
      "       - Employee: 'Raj Kapoor'\n",
      "   - Department: 'HR'\n",
      "     - Team: 'General HR'\n",
      "       - Employee: 'Anil Gupta'\n",
      "       - Employee: 'Deepak Verma'\n"
     ]
    }
   ],
   "source": [
    "from dataclasses import dataclass, field\n",
    "from typing import List, Optional\n",
    "\n",
    "\n",
    "@dataclass\n",
    "class Employee:\n",
    "    name: str\n",
    "\n",
    "\n",
    "@dataclass\n",
    "class Team:\n",
    "    name: str\n",
    "    employees: List[Employee] = field(default_factory=list)\n",
    "\n",
    "    def add_employee(self, employee: Employee):\n",
    "        self.employees.append(employee)\n",
    "\n",
    "\n",
    "@dataclass\n",
    "class Department:\n",
    "    name: str\n",
    "    teams: List[Team] = field(default_factory=list)\n",
    "\n",
    "    def add_team(self, team: Team):\n",
    "        self.teams.append(team)\n",
    "\n",
    "    def get_team(self, team_name: str) -> Optional[Team]:\n",
    "        for team in self.teams:\n",
    "            if team.name == team_name:\n",
    "                return team\n",
    "        return None\n",
    "\n",
    "\n",
    "@dataclass\n",
    "class Company:\n",
    "    name: str\n",
    "    departments: List[Department] = field(default_factory=list)\n",
    "\n",
    "    def add_department(self, department: Department):\n",
    "        self.departments.append(department)\n",
    "\n",
    "    def get_department(self, department_name: str) -> Optional[Department]:\n",
    "        for department in self.departments:\n",
    "            if department.name == department_name:\n",
    "                return department\n",
    "        return None\n",
    "\n",
    "\n",
    "# Create company\n",
    "intel = Company(\"Intel\")\n",
    "\n",
    "# Create departments\n",
    "engineering = Department(\"Engineering\")\n",
    "hr = Department(\"HR\")\n",
    "\n",
    "# Create teams\n",
    "design = Team(\"Design\")\n",
    "testing = Team(\"Testing\")\n",
    "\n",
    "# Create employees\n",
    "ramesh = Employee(\"Ramesh Kumar\")\n",
    "sunita = Employee(\"Sunita Sharma\")\n",
    "priya = Employee(\"Priya Singh\")\n",
    "raj = Employee(\"Raj Kapoor\")\n",
    "anil = Employee(\"Anil Gupta\")\n",
    "deepak = Employee(\"Deepak Verma\")\n",
    "\n",
    "# Add employees to teams\n",
    "design.add_employee(ramesh)\n",
    "design.add_employee(sunita)\n",
    "testing.add_employee(priya)\n",
    "testing.add_employee(raj)\n",
    "\n",
    "# Add teams to departments\n",
    "engineering.add_team(design)\n",
    "engineering.add_team(testing)\n",
    "\n",
    "# Add employees directly to HR department (no team)\n",
    "general_hr = Team(\"General HR\")  # Creating a general HR team to hold HR employees\n",
    "general_hr.add_employee(anil)\n",
    "general_hr.add_employee(deepak)\n",
    "hr.add_team(general_hr)\n",
    "\n",
    "# Add departments to company\n",
    "intel.add_department(engineering)\n",
    "intel.add_department(hr)\n",
    "\n",
    "\n",
    "def print_company_structure(company):\n",
    "    print(f\"Company: '{company.name}'\")\n",
    "    for department in company.departments:\n",
    "        print(f\"   - Department: '{department.name}'\")\n",
    "        for team in department.teams:\n",
    "            print(f\"     - Team: '{team.name}'\")\n",
    "            for employee in team.employees:\n",
    "                print(f\"       - Employee: '{employee.name}'\")\n",
    "\n",
    "\n",
    "print_company_structure(intel)"
   ]
  },
  {
   "cell_type": "code",
   "execution_count": 2,
   "id": "32f4a30a-dae5-480f-9a74-a326513b322a",
   "metadata": {},
   "outputs": [],
   "source": [
    "def get_employees(company, department_name, team_name):\n",
    "    if company is not None:\n",
    "        department = company.get_department(department_name)\n",
    "        if department is not None:\n",
    "            team = department.get_team(team_name)\n",
    "            if team is not None:\n",
    "                return team.employees\n",
    "    return None"
   ]
  },
  {
   "cell_type": "code",
   "execution_count": 3,
   "id": "e53babd9-1aa1-4744-b3cb-1594eeb9930d",
   "metadata": {},
   "outputs": [
    {
     "name": "stdout",
     "output_type": "stream",
     "text": [
      "get_employees(company=intel, department_name='Engineering', team_name='Testing') = [Employee(name='Priya Singh'), Employee(name='Raj Kapoor')]\n",
      "get_employees(company=intel, department_name='HR', team_name='General HR') = [Employee(name='Anil Gupta'), Employee(name='Deepak Verma')]\n",
      "\n",
      "get_employees(company=intel, department_name='HR', team_name='Testing') = None\n",
      "get_employees(company=intel, department_name='Engineering', team_name='General HR') = None\n"
     ]
    }
   ],
   "source": [
    "print(f\"{get_employees(company=intel, department_name='Engineering', team_name='Testing') = }\")\n",
    "print(f\"{get_employees(company=intel, department_name='HR', team_name='General HR') = }\")\n",
    "print()\n",
    "print(f\"{get_employees(company=intel, department_name='HR', team_name='Testing') = }\")\n",
    "print(f\"{get_employees(company=intel, department_name='Engineering', team_name='General HR') = }\")"
   ]
  },
  {
   "cell_type": "code",
   "execution_count": 4,
   "id": "f6ea2a7f-dd9d-43dd-8e20-1a43cc5c0575",
   "metadata": {},
   "outputs": [],
   "source": [
    "from returns.maybe import Maybe\n",
    "\n",
    "\n",
    "def get_employees(company, department_name, team_name):\n",
    "    return (\n",
    "        Maybe.from_optional(company)\n",
    "        .bind_optional(lambda valid_company: valid_company.get_department(department_name))\n",
    "        .bind_optional(lambda valid_department: valid_department.get_team(team_name))\n",
    "        .bind_optional(lambda valid_team: valid_team.employees)\n",
    "    )"
   ]
  },
  {
   "cell_type": "code",
   "execution_count": 5,
   "id": "7c347759-05d5-4ff0-916f-ea42915b2ccb",
   "metadata": {},
   "outputs": [
    {
     "name": "stdout",
     "output_type": "stream",
     "text": [
      "get_employees(company=intel, department_name='Engineering', team_name='Testing') = <Some: [Employee(name='Priya Singh'), Employee(name='Raj Kapoor')]>\n",
      "get_employees(company=intel, department_name='HR', team_name='General HR') = <Some: [Employee(name='Anil Gupta'), Employee(name='Deepak Verma')]>\n",
      "\n",
      "get_employees(company=intel, department_name='HR', team_name='Testing') = <Nothing>\n",
      "get_employees(company=intel, department_name='Engineering', team_name='General HR') = <Nothing>\n"
     ]
    }
   ],
   "source": [
    "print(f\"{get_employees(company=intel, department_name='Engineering', team_name='Testing') = }\")\n",
    "print(f\"{get_employees(company=intel, department_name='HR', team_name='General HR') = }\")\n",
    "print()\n",
    "print(f\"{get_employees(company=intel, department_name='HR', team_name='Testing') = }\")\n",
    "print(f\"{get_employees(company=intel, department_name='Engineering', team_name='General HR') = }\")"
   ]
  },
  {
   "cell_type": "markdown",
   "id": "0afb1d35-50a2-4239-a129-c83f6fe69c23",
   "metadata": {},
   "source": [
    "[<< [Functional Programming and OOP Intersection](./08_functional_programming_and_oop.ipynb) | [Index](./00_index.ipynb) | >>]\n"
   ]
  }
 ],
 "metadata": {
  "kernelspec": {
   "display_name": "Python 3 (ipykernel)",
   "language": "python",
   "name": "python3"
  },
  "language_info": {
   "codemirror_mode": {
    "name": "ipython",
    "version": 3
   },
   "file_extension": ".py",
   "mimetype": "text/x-python",
   "name": "python",
   "nbconvert_exporter": "python",
   "pygments_lexer": "ipython3",
   "version": "3.8.10"
  }
 },
 "nbformat": 4,
 "nbformat_minor": 5
}
