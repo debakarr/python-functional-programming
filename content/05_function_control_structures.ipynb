{
 "cells": [
  {
   "cell_type": "markdown",
   "id": "2a1ed5fc-13a1-4d69-bdc5-07c54ca8d468",
   "metadata": {},
   "source": [
    "[<< [Pure Functions and Immutability](./04_pure_functions_and_immutability.ipynb) | [Index](./00_index.ipynb) | [Function Types and Properties](./06_function_types_and_Properties.ipynb) >>]"
   ]
  },
  {
   "cell_type": "markdown",
   "id": "bd1d26f0-2c47-4232-90c3-78110d178100",
   "metadata": {},
   "source": [
    "# Function Control Structures"
   ]
  },
  {
   "cell_type": "markdown",
   "id": "060e6911-f926-4ea2-8d66-6848e8e391d0",
   "metadata": {},
   "source": [
    "## Recursion\n",
    "\n",
    "- [Recursion](https://en.wikipedia.org/wiki/Recursion_(computer_science)) is a method of solving problems in programming.\n",
    "- It involves a function calling itself to solve a smaller instance of the same problem.\n",
    "- A recursion function has two main parts: the base case and the recursive case.\n",
    "- The [base case](https://en.wikipedia.org/wiki/Recursion_(computer_science)#Base_case) is the simplest form of the problem that the function can solve directly.\n",
    "- The [recursive case](https://en.wikipedia.org/wiki/Recursion_(computer_science)#Recursive_case) is where the function calls itself, usually with a smaller input.\n",
    "- It is used in various data structures and algorithms like [Binary Trees](https://en.wikipedia.org/wiki/Binary_tree) and [Merge Sort](https://en.wikipedia.org/wiki/Merge_sort).\n",
    "- Recursion can lead to elegant and simple code, but it can also lead to complexity and performance issues if not used correctly.\n",
    "- It can also be used to traverse data structures, solve mathematical problems, and more.\n",
    "- Recursion can be replaced with [iteration](https://en.wikipedia.org/wiki/Iteration) in some cases, but it often leads to more straightforward and readable code."
   ]
  },
  {
   "cell_type": "code",
   "execution_count": 1,
   "id": "eac0959b-9557-4dc7-90cf-c7ef6cbc9280",
   "metadata": {},
   "outputs": [],
   "source": [
    "%load_ext pytutor"
   ]
  },
  {
   "cell_type": "code",
   "execution_count": 2,
   "id": "a2c08de5-55b6-4161-a0b8-fa7393cd0c60",
   "metadata": {},
   "outputs": [
    {
     "data": {
      "text/html": [
       "\n",
       "    <iframe width=\"800\" height=\"500\" frameborder=\"0\"\n",
       "            src=\"http://pythontutor.com/iframe-embed.html#code=def+factorial%28n%29%3A%0A++++if+n+%3D%3D+0%3A%0A++++++++return+1%0A++++else%3A%0A++++++++return+n+%2A+factorial%28n-1%29%0A++++%0Aprint%28f%22%7Bfactorial%283%29+%3D+%7D%22%29%0A&py=311\">\n",
       "    </iframe>\n",
       "    "
      ],
      "text/plain": [
       "<IPython.core.display.HTML object>"
      ]
     },
     "metadata": {},
     "output_type": "display_data"
    }
   ],
   "source": [
    "%%tutor\n",
    "def factorial(n):\n",
    "    if n == 0:\n",
    "        return 1\n",
    "    else:\n",
    "        return n * factorial(n-1)\n",
    "    \n",
    "print(f\"{factorial(3) = }\")"
   ]
  },
  {
   "cell_type": "code",
   "execution_count": 3,
   "id": "0361260e-122f-4a2a-96cd-005385662def",
   "metadata": {},
   "outputs": [],
   "source": [
    "# This will crash the jupyter book. In normal Python interpreter factorial(1000) itself will raise RecursionError Exception.\n",
    "# def factorial(n):\n",
    "#     if n == 0:\n",
    "#         return 1\n",
    "#     else:\n",
    "#         return n * factorial(n-1)\n",
    "\n",
    "# print(f\"{factorial(3000) = }\")"
   ]
  },
  {
   "cell_type": "markdown",
   "id": "a70eb7dc-105d-475a-addd-e010f9919813",
   "metadata": {},
   "source": [
    "## Tail Recursion\n",
    "\n",
    "- [Tail Recursion](https://en.wikipedia.org/wiki/Tail_call) is a special kind of recursion in computer programming.\n",
    "- In tail recursion, the recursive call is the last operation in the function.\n",
    "- The function doesn't have to do any additional work after the recursive call returns.\n",
    "- Because of this, the compiler or interpreter can optimize tail recursion to avoid stack overflow.\n",
    "- This optimization is known as [Tail Call Optimization (TCO)](https://en.wikipedia.org/wiki/Tail_call#Tail_recursion).\n",
    "- Tail recursion can be more efficient than general recursion in terms of memory space.\n",
    "- In languages that support TCO, such as Scheme and Haskell, tail recursion can be as efficient as iteration.\n",
    "- However, not all programming languages optimize for tail recursion. For example, Python and Java do not support TCO.\n",
    "- When a function is written in tail-recursive manner, it can be easily converted to iterative version."
   ]
  },
  {
   "cell_type": "markdown",
   "id": "f6f4e6f6-fb4b-4548-abde-9922aac27edf",
   "metadata": {},
   "source": [
    "```python\n",
    "def factorial(n):\n",
    "    if n == 0:\n",
    "        return 1\n",
    "    else:\n",
    "        return n * factorial(n-1)\n",
    "```\n",
    "\n",
    "```\n",
    "factorial(4) = 4 * factorial(3)\n",
    "             = 4 * (3 * factorial(2))\n",
    "             = 4 * (3 * (2 * factorial(1)))\n",
    "             = 4 * (3 * (2 * (1 * factorial(0))))\n",
    "             = 4 * (3 * (2 * (1 * 1)))\n",
    "             = 4 * (3 * (2 * 1))\n",
    "             = 4 * (3 * 2)\n",
    "             = 4 * 6\n",
    "             = 24\n",
    "```\n",
    "\n",
    "Here is a tail recursive version of factorial:\n",
    "\n",
    "```python\n",
    "def factorial(n, accumulator=1):\n",
    "    if n == 0:\n",
    "        return accumulator\n",
    "    else:\n",
    "        return factorial(n-1, n * accumulator)\n",
    "```\n",
    "\n",
    "```\n",
    "factorial(4) = factorial(4, 1)\n",
    "             = factorial(3, 4 * 1)\n",
    "             = factorial(2, 3 * 4)\n",
    "             = factorial(1, 12 * 2)\n",
    "             = factorial(0, 24)\n",
    "             = 24\n",
    "```"
   ]
  },
  {
   "cell_type": "markdown",
   "id": "86624877-c66d-400b-8c55-1f1ce8bd3d41",
   "metadata": {},
   "source": [
    "[![Recursion](https://img.youtube.com/vi/_JtPhF8MshA/0.jpg)](https://www.youtube.com/watch?v=_JtPhF8MshA)"
   ]
  },
  {
   "cell_type": "markdown",
   "id": "c3345d54-588f-475b-aa90-466a138a0286",
   "metadata": {},
   "source": [
    "Python has a recursion limit and [doesn't support Tail Recursion Optimization (TRO) or Tail Recursion Elimination (TRE)](https://neopythonic.blogspot.com/2009/04/tail-recursion-elimination.html)."
   ]
  },
  {
   "cell_type": "code",
   "execution_count": 4,
   "id": "94907f3c-7bd6-4225-90c1-212672dc5934",
   "metadata": {},
   "outputs": [
    {
     "data": {
      "text/plain": [
       "3000"
      ]
     },
     "execution_count": 4,
     "metadata": {},
     "output_type": "execute_result"
    }
   ],
   "source": [
    "# Getting recursion limit in Python\n",
    "import sys\n",
    "\n",
    "sys.getrecursionlimit()"
   ]
  },
  {
   "cell_type": "markdown",
   "id": "345d634b-267e-4eaa-b69b-2223e388d79b",
   "metadata": {},
   "source": [
    "Read more on [Watch out for recursion | Pydon't 🐍](https://mathspp.com/blog/pydonts/watch-out-for-recursion)"
   ]
  },
  {
   "cell_type": "markdown",
   "id": "4ffe1744-1a41-4f03-8d0c-164647f0ad0e",
   "metadata": {},
   "source": [
    "## Lazy Evaluation\n",
    "\n",
    "- [Lazy Evaluation](https://en.wikipedia.org/wiki/Lazy_evaluation) is an evaluation strategy in programming.\n",
    "- It delays the evaluation of an expression until its value is actually required.\n",
    "- This can lead to increased efficiency as it avoids needless calculations and can help handle infinite data structures.\n",
    "- It is a key feature in functional programming languages like [Haskell](https://en.wikipedia.org/wiki/Haskell_(programming_language)).\n",
    "- Lazy evaluation can help improve performance by not calculating the results of a function if they are not needed.\n",
    "- It can also help avoid potential errors or exceptions in evaluation.\n",
    "- However, it can lead to memory leaks if not handled correctly as it needs to keep track of unevaluated expressions.\n",
    "- Lazy evaluation can be contrasted with [eager evaluation](https://en.wikipedia.org/wiki/Eager_evaluation), which is the typical evaluation strategy where expressions are evaluated as soon as they are defined.\n",
    "- It is also used in other programming paradigms and languages, such as Python's [generators](https://en.wikipedia.org/wiki/Generator_(computer_programming)).\n",
    "- The use of lazy evaluation can lead to cleaner, more modular code, and it can also be used as a tool for abstraction."
   ]
  },
  {
   "cell_type": "markdown",
   "id": "df1b6944-ea62-4436-9283-44b8a8ed59e4",
   "metadata": {},
   "source": [
    "built-in function like `range`, `zip`, `open` etc. follows lazy evaluation.\n",
    "\n",
    "Pre-requisite: [Sequence, Iterator and Generator](https://github.com/debakarr/intermediate-python/blob/main/content/06_sequence_iterators_and_generators.ipynb)"
   ]
  },
  {
   "cell_type": "code",
   "execution_count": 5,
   "id": "ad816dc9-6281-4d61-a3e2-b86509dcbb05",
   "metadata": {},
   "outputs": [
    {
     "name": "stdout",
     "output_type": "stream",
     "text": [
      "sys.getsizeof(range(50)) = 48\n",
      "sys.getsizeof(range(500)) = 48\n"
     ]
    }
   ],
   "source": [
    "import sys\n",
    "\n",
    "print(f\"{sys.getsizeof(range(50)) = }\")\n",
    "print(f\"{sys.getsizeof(range(500)) = }\")"
   ]
  },
  {
   "cell_type": "code",
   "execution_count": 6,
   "id": "1c67eb63-a352-4dcc-a879-d48b8f35a8d4",
   "metadata": {},
   "outputs": [],
   "source": [
    "import random\n",
    "\n",
    "\n",
    "def rand():\n",
    "    while True:\n",
    "        yield random.randint(1, 1001)"
   ]
  },
  {
   "cell_type": "code",
   "execution_count": 7,
   "id": "e3a908ef-f8e6-420d-8f5f-45e286260ed2",
   "metadata": {},
   "outputs": [
    {
     "name": "stdout",
     "output_type": "stream",
     "text": [
      "next(rand()) = 174\n",
      "next(rand()) = 836\n",
      "next(rand()) = 262\n",
      "next(rand()) = 71\n"
     ]
    }
   ],
   "source": [
    "print(f\"{next(rand()) = }\")\n",
    "print(f\"{next(rand()) = }\")\n",
    "print(f\"{next(rand()) = }\")\n",
    "print(f\"{next(rand()) = }\")"
   ]
  },
  {
   "cell_type": "markdown",
   "id": "73e4eef7-24d1-4653-8909-7fb6d4830f5e",
   "metadata": {},
   "source": [
    "**Getting only some element from infinite iterator**"
   ]
  },
  {
   "cell_type": "code",
   "execution_count": 8,
   "id": "56e12e94-9748-40c9-a739-f9b53da68c98",
   "metadata": {},
   "outputs": [
    {
     "name": "stdout",
     "output_type": "stream",
     "text": [
      "Random number: 98\n",
      "Random number: 707\n",
      "Random number: 57\n",
      "Random number: 545\n",
      "Random number: 829\n"
     ]
    }
   ],
   "source": [
    "for _ in range(5):\n",
    "    print(f\"Random number: {next(rand())}\")"
   ]
  },
  {
   "cell_type": "code",
   "execution_count": 9,
   "id": "257df630-c1bb-48ce-8a00-30f9896e5ec3",
   "metadata": {},
   "outputs": [
    {
     "name": "stdout",
     "output_type": "stream",
     "text": [
      "Random number: 599\n",
      "Random number: 911\n",
      "Random number: 166\n",
      "Random number: 805\n",
      "Random number: 943\n"
     ]
    }
   ],
   "source": [
    "import itertools\n",
    "\n",
    "\n",
    "generator = rand()\n",
    "for num in itertools.islice(generator, 5):\n",
    "    print(f\"Random number: {num}\")"
   ]
  },
  {
   "cell_type": "markdown",
   "id": "71ccee33-dc8d-4110-9525-44643ff122c8",
   "metadata": {},
   "source": [
    "### Visualize Lazy evaluation"
   ]
  },
  {
   "cell_type": "code",
   "execution_count": 10,
   "id": "ea16d112-cd04-40fb-af3d-bae191f02575",
   "metadata": {},
   "outputs": [
    {
     "data": {
      "text/html": [
       "\n",
       "    <iframe width=\"800\" height=\"500\" frameborder=\"0\"\n",
       "            src=\"http://pythontutor.com/iframe-embed.html#code=import+io%0A%0A%0Af+%3D+io.StringIO%28%27%27%275%0A7%0A4%0A8%0A1%27%27%27%29%0A%0Adef+read_data%28file%29%3A%0A++++lines+%3D+%5B%5D%0A++++for+line+in+file%3A%0A++++++++lines.append%28line.strip%28%29%29%0A++++return+lines%0A%0Adef+parse_data%28lines%29%3A%0A++++return+%5Bint%28line%29+for+line+in+lines%5D%0A%0Adef+calculate_squares%28numbers%29%3A%0A++++return+%5Bn%2An+for+n+in+numbers%5D%0A%0A%23+Now+let%27s+use+the+pipeline%0Adata+%3D+read_data%28f%29%0Anumbers+%3D+parse_data%28data%29%0Asquares+%3D+calculate_squares%28numbers%29%0A%0Afor+square+in+squares%3A%0A++++print%28square%29%0A&py=311\">\n",
       "    </iframe>\n",
       "    "
      ],
      "text/plain": [
       "<IPython.core.display.HTML object>"
      ]
     },
     "metadata": {},
     "output_type": "display_data"
    }
   ],
   "source": [
    "%%tutor\n",
    "import io\n",
    "\n",
    "\n",
    "f = io.StringIO('''5\n",
    "7\n",
    "4\n",
    "8\n",
    "1''')\n",
    "\n",
    "def read_data(file):\n",
    "    lines = []\n",
    "    for line in file:\n",
    "        lines.append(line.strip())\n",
    "    return lines\n",
    "\n",
    "def parse_data(lines):\n",
    "    return [int(line) for line in lines]\n",
    "\n",
    "def calculate_squares(numbers):\n",
    "    return [n*n for n in numbers]\n",
    "\n",
    "# Now let's use the pipeline\n",
    "data = read_data(f)\n",
    "numbers = parse_data(data)\n",
    "squares = calculate_squares(numbers)\n",
    "\n",
    "for square in squares:\n",
    "    print(square)"
   ]
  },
  {
   "cell_type": "code",
   "execution_count": 11,
   "id": "64891f25-8240-4b68-a7d3-5a45c269571b",
   "metadata": {},
   "outputs": [
    {
     "data": {
      "text/html": [
       "\n",
       "    <iframe width=\"800\" height=\"500\" frameborder=\"0\"\n",
       "            src=\"http://pythontutor.com/iframe-embed.html#code=import+io%0A%0A%0Af+%3D+io.StringIO%28%27%27%275%0A7%0A4%0A8%0A1%27%27%27%29%0A%0Adef+read_data%28file%29%3A%0A++++for+line+in+file%3A%0A++++++++yield+line%0A%0Adef+parse_data%28lines%29%3A%0A++++return+%28int%28line%29+for+line+in+lines%29%0A%0Adef+calculate_squares%28numbers%29%3A%0A++++return+%28n%2An+for+n+in+numbers%29%0A%0A%23+Now+let%27s+use+the+pipeline%0Adata+%3D+read_data%28f%29%0Anumbers+%3D+parse_data%28data%29%0Asquares+%3D+calculate_squares%28numbers%29%0A%0Afor+square+in+squares%3A%0A++++print%28square%29%0A&py=311\">\n",
       "    </iframe>\n",
       "    "
      ],
      "text/plain": [
       "<IPython.core.display.HTML object>"
      ]
     },
     "metadata": {},
     "output_type": "display_data"
    }
   ],
   "source": [
    "%%tutor\n",
    "import io\n",
    "\n",
    "\n",
    "f = io.StringIO('''5\n",
    "7\n",
    "4\n",
    "8\n",
    "1''')\n",
    "\n",
    "def read_data(file):\n",
    "    for line in file:\n",
    "        yield line\n",
    "\n",
    "def parse_data(lines):\n",
    "    return (int(line) for line in lines)\n",
    "\n",
    "def calculate_squares(numbers):\n",
    "    return (n*n for n in numbers)\n",
    "\n",
    "# Now let's use the pipeline\n",
    "data = read_data(f)\n",
    "numbers = parse_data(data)\n",
    "squares = calculate_squares(numbers)\n",
    "\n",
    "for square in squares:\n",
    "    print(square)"
   ]
  },
  {
   "cell_type": "markdown",
   "id": "2f8a8740-bc90-44a1-bda7-2b6bc18d4666",
   "metadata": {},
   "source": [
    "[<< [Pure Functions and Immutability](./04_pure_functions_and_immutability.ipynb) | [Index](./00_index.ipynb) | [Function Types and Properties](./06_function_types_and_Properties.ipynb) >>]"
   ]
  }
 ],
 "metadata": {
  "kernelspec": {
   "display_name": "Python 3 (ipykernel)",
   "language": "python",
   "name": "python3"
  },
  "language_info": {
   "codemirror_mode": {
    "name": "ipython",
    "version": 3
   },
   "file_extension": ".py",
   "mimetype": "text/x-python",
   "name": "python",
   "nbconvert_exporter": "python",
   "pygments_lexer": "ipython3",
   "version": "3.8.10"
  }
 },
 "nbformat": 4,
 "nbformat_minor": 5
}
