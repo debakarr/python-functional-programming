{
 "cells": [
  {
   "cell_type": "markdown",
   "id": "da60ea6d-e585-4072-bea4-65979b55436c",
   "metadata": {},
   "source": [
    "[<< [Functional Programming](./02_functional_programming.ipynb) | [Index](./00_index.ipynb) | [Pure Functions and Immutability](./04_pure_functions_and_immutability.ipynb) >>]"
   ]
  },
  {
   "cell_type": "markdown",
   "id": "68e24167-1df5-4e89-92f0-757b1aaa5137",
   "metadata": {},
   "source": [
    "**Disclamer:** Images in this section is inspire from [https://adv-r.hadley.nz/functionals.html](https://adv-r.hadley.nz/functionals.html)"
   ]
  },
  {
   "cell_type": "markdown",
   "id": "dfd7c0f3-a89f-43c1-b74a-4a13138a2265",
   "metadata": {
    "editable": true,
    "slideshow": {
     "slide_type": ""
    },
    "tags": []
   },
   "source": [
    "## Function\n",
    "\n",
    "![](./static/function-1.png)"
   ]
  },
  {
   "cell_type": "markdown",
   "id": "f66b9690-dcfe-4bfb-944e-73a526293e99",
   "metadata": {
    "editable": true,
    "slideshow": {
     "slide_type": ""
    },
    "tags": []
   },
   "source": [
    "## Composition\n",
    "\n",
    "![](./static/function-composition-1.png)\n",
    "\n",
    "### Composition is not always commutative\n",
    "\n",
    "![](./static/function-composition.png)\n",
    "\n",
    "![](./static/function-composition-2.png)"
   ]
  },
  {
   "cell_type": "markdown",
   "id": "deb3979c-317d-4a71-a995-ff38e0e7b29a",
   "metadata": {},
   "source": [
    "## Commutative\n",
    "\n",
    "![](./static/commutative.png)"
   ]
  },
  {
   "cell_type": "markdown",
   "id": "722dfb48-5fd3-48ff-8181-a5d89b4c4493",
   "metadata": {
    "editable": true,
    "slideshow": {
     "slide_type": ""
    },
    "tags": []
   },
   "source": [
    "# First-Class and High Order Functions"
   ]
  },
  {
   "cell_type": "markdown",
   "id": "b4a597c2-de21-4202-aa6c-7b65f520ff03",
   "metadata": {
    "editable": true,
    "slideshow": {
     "slide_type": ""
    },
    "tags": []
   },
   "source": [
    "## First-Class Functions\n",
    "\n",
    "- [First-Class Functions (FCF)](https://en.wikipedia.org/wiki/First-class_function) are a programming feature.\n",
    "- Functions are treated as [First-Class Citizens (FCC)](https://en.wikipedia.org/wiki/First-class_citizen).\n",
    "- These functions can be used as parameters in other functions.\n",
    "- They can be returned as values from other functions.\n",
    "- They can be assigned to variables.\n",
    "- They can be stored in data structures like hash tables and lists."
   ]
  },
  {
   "cell_type": "markdown",
   "id": "22177dbe-7183-4cbf-bb85-4bbafc516667",
   "metadata": {},
   "source": [
    "In Python all functions are fist-class functions"
   ]
  },
  {
   "cell_type": "code",
   "execution_count": 1,
   "id": "60dbdaa1-eb7a-4525-bb55-9519777bfdef",
   "metadata": {},
   "outputs": [],
   "source": [
    "def greeting(name):\n",
    "    return f\"Hello, {name}\"\n",
    "\n",
    "\n",
    "# Lambda version:\n",
    "# greeting = lambda name: f\"Hello, {name}\""
   ]
  },
  {
   "cell_type": "code",
   "execution_count": 2,
   "id": "e198b677-3bb0-4194-8186-35798e1090ab",
   "metadata": {},
   "outputs": [
    {
     "name": "stdout",
     "output_type": "stream",
     "text": [
      "Hello, Debakar\n"
     ]
    }
   ],
   "source": [
    "# Can be assigned to variables\n",
    "say_hello = greeting\n",
    "print(say_hello(\"Debakar\"))"
   ]
  },
  {
   "cell_type": "code",
   "execution_count": 3,
   "id": "58362c40-8471-4735-93f4-3f313ef79e85",
   "metadata": {},
   "outputs": [
    {
     "name": "stdout",
     "output_type": "stream",
     "text": [
      "HELLO, DEBAKAR!!!\n"
     ]
    }
   ],
   "source": [
    "# Can be used as parameters, returned as values\n",
    "def greet_loudly(func):\n",
    "    def wrapper(name):\n",
    "        return func(name).upper() + \"!!!\"\n",
    "\n",
    "    return wrapper\n",
    "\n",
    "\n",
    "# Lambda version:\n",
    "# greet_loudly = lambda func: lambda name: func(name).upper() + \"!!!\"\n",
    "\n",
    "\n",
    "loud_greeting = greet_loudly(greeting)\n",
    "print(loud_greeting(\"Debakar\"))"
   ]
  },
  {
   "cell_type": "code",
   "execution_count": 4,
   "id": "79a545c9-57e7-4e8d-8a49-fc6c35dc6c03",
   "metadata": {},
   "outputs": [
    {
     "name": "stdout",
     "output_type": "stream",
     "text": [
      "Hello, Alice\n",
      "HELLO, ALICE!!!\n"
     ]
    }
   ],
   "source": [
    "# Can be stored in data structures like hash tables and lists\n",
    "funcs = [greeting, loud_greeting]\n",
    "name = \"Alice\"\n",
    "\n",
    "for func in funcs:\n",
    "    print(func(name))"
   ]
  },
  {
   "cell_type": "markdown",
   "id": "78a378c9-ec19-4d64-8a4a-69c55ecb249e",
   "metadata": {},
   "source": [
    "**Pre-requisite:** \n",
    "\n",
    "- [Lambda introduction in Intermediate Python Course](https://github.com/debakarr/intermediate-python/blob/main/content/05_other_functions_concepts.ipynb)\n",
    "- [Lambda use case in Pythonic Programming Course](https://github.com/debakarr/pythonic-programming/blob/main/content/07_lambda_functions_and_functional_programming.ipynb)"
   ]
  },
  {
   "cell_type": "markdown",
   "id": "34c85abd-91ca-4507-8a64-6b699d09636a",
   "metadata": {},
   "source": [
    "## High-Order Functions\n",
    "\n",
    "- [High-Order Functions (HOF)](https://en.wikipedia.org/wiki/Higher-order_function) are a programming feature.\n",
    "- They can operate on other functions.\n",
    "- These functions can take other functions as arguments.\n",
    "- They can return functions as results.\n",
    "- They can both take functions as arguments and return them as results.\n",
    "- This allows for operations on functions to be abstracted and reused.\n",
    "- This leads to more modular and concise code."
   ]
  },
  {
   "cell_type": "code",
   "execution_count": 1,
   "id": "043ced35-2e32-4aea-99d0-6085a0c76b10",
   "metadata": {},
   "outputs": [],
   "source": [
    "def square(num):\n",
    "    return num**2\n",
    "\n",
    "\n",
    "def cube(num):\n",
    "    return num**3\n",
    "\n",
    "\n",
    "# Higher-order function\n",
    "def calculate(num, func):\n",
    "    return func(num)"
   ]
  },
  {
   "cell_type": "code",
   "execution_count": 2,
   "id": "626e1b3f-2f02-46b6-95c1-8331b7c14368",
   "metadata": {},
   "outputs": [
    {
     "name": "stdout",
     "output_type": "stream",
     "text": [
      "calculate(5, square) = 25\n",
      "calculate(5, cube) = 125\n"
     ]
    }
   ],
   "source": [
    "print(f\"{calculate(5, square) = }\")\n",
    "print(f\"{calculate(5, cube) = }\")"
   ]
  },
  {
   "cell_type": "markdown",
   "id": "08a7b8bb-d51e-4d63-bb50-760ef58ce79c",
   "metadata": {},
   "source": [
    "**Lambda version:**"
   ]
  },
  {
   "cell_type": "code",
   "execution_count": 7,
   "id": "642d4b9a-eaf1-4d92-89a2-c5da97931571",
   "metadata": {
    "editable": true,
    "slideshow": {
     "slide_type": ""
    },
    "tags": []
   },
   "outputs": [
    {
     "name": "stdout",
     "output_type": "stream",
     "text": [
      "calculate(5, square) = 25\n",
      "calculate(5, cube) = 125\n"
     ]
    }
   ],
   "source": [
    "square = lambda num: num**2\n",
    "cube = lambda num: num**3\n",
    "\n",
    "calculate = lambda num, func: func(num)\n",
    "\n",
    "print(f\"{calculate(5, square) = }\")\n",
    "print(f\"{calculate(5, cube) = }\")"
   ]
  },
  {
   "cell_type": "markdown",
   "id": "6adad29d-ea8f-4b44-938c-1a58a98a7ee0",
   "metadata": {},
   "source": [
    "Python have higher order function built-in to the language. This include \n",
    "- `max` and `min`\n",
    "- `sorted`\n",
    "- `map`\n",
    "- `filter`\n",
    "- `reduce`\n",
    "- `iter`"
   ]
  },
  {
   "cell_type": "markdown",
   "id": "45279302-b6d9-4afb-9562-6b524a6b357c",
   "metadata": {},
   "source": [
    "- `max`, `min` and `sorted` have a default behaviour.\n",
    "- `map` and `filter` required you to have a function as first parameter."
   ]
  },
  {
   "cell_type": "markdown",
   "id": "bc6be3f4-ff2f-48af-8054-fa617271bcfe",
   "metadata": {},
   "source": [
    "**Pre-requisite before we continue:** [Lambda Functions and Functional Programming](https://github.com/debakarr/pythonic-programming/blob/main/content/07_lambda_functions_and_functional_programming.ipynb)"
   ]
  },
  {
   "cell_type": "markdown",
   "id": "83848cb4-5a78-475d-a717-6597853f2f72",
   "metadata": {},
   "source": [
    "### max and min\n",
    "\n",
    "![](./static/max-1.png)\n",
    "\n",
    "---\n",
    "\n",
    "![](./static/min-1.png)"
   ]
  },
  {
   "cell_type": "code",
   "execution_count": 3,
   "id": "970f4928-c8c6-44aa-bfb5-97ed9579f7e7",
   "metadata": {},
   "outputs": [],
   "source": [
    "data = [\n",
    "    {\"name\": \"Alice\", \"age\": 45},\n",
    "    {\"name\": \"Bob\", \"age\": 65},\n",
    "    {\"name\": \"Charlie\", \"age\": 80},\n",
    "]"
   ]
  },
  {
   "cell_type": "code",
   "execution_count": 4,
   "id": "57d8dbb2-38e2-4ada-a90e-58c7a7a26989",
   "metadata": {},
   "outputs": [
    {
     "name": "stdout",
     "output_type": "stream",
     "text": [
      "oldest_person = {'name': 'Charlie', 'age': 80}\n",
      "youngest_person = {'name': 'Alice', 'age': 45}\n"
     ]
    }
   ],
   "source": [
    "# Find the oldest and youngest person\n",
    "oldest_person = max(data, key=lambda x: x.get(\"age\"))\n",
    "youngest_person = min(data, key=lambda x: x.get(\"age\"))\n",
    "\n",
    "print(f\"{oldest_person = }\")\n",
    "print(f\"{youngest_person = }\")"
   ]
  },
  {
   "cell_type": "markdown",
   "id": "7aced46b-c3d9-404c-9f6d-41b7f031a219",
   "metadata": {},
   "source": [
    "### sorted"
   ]
  },
  {
   "cell_type": "code",
   "execution_count": 10,
   "id": "16fabfbf-ca52-4d27-a35e-e166d5187aff",
   "metadata": {},
   "outputs": [
    {
     "name": "stdout",
     "output_type": "stream",
     "text": [
      "sorted_data = [{'name': 'Charlie', 'age': 80}, {'name': 'Bob', 'age': 65}, {'name': 'Alice', 'age': 45}]\n"
     ]
    }
   ],
   "source": [
    "# Sort by age in decending order\n",
    "sorted_data = sorted(data, key=lambda x: x.get(\"age\"), reverse=True)\n",
    "\n",
    "print(f\"{sorted_data = }\")"
   ]
  },
  {
   "cell_type": "markdown",
   "id": "7378ffcb-2fe7-4135-98fb-4207d2802456",
   "metadata": {},
   "source": [
    "### map\n",
    "\n",
    "![](./static/map-1.png)"
   ]
  },
  {
   "cell_type": "code",
   "execution_count": 11,
   "id": "1fb9eb2b-81b9-4e84-b4ca-aeaf71fcede5",
   "metadata": {},
   "outputs": [
    {
     "name": "stdout",
     "output_type": "stream",
     "text": [
      "person_dicts = [{'name': 'Alice', 'name_length': 5}, {'name': 'Bob', 'name_length': 3}, {'name': 'Charlie', 'name_length': 7}]\n"
     ]
    }
   ],
   "source": [
    "person_names = [\"Alice\", \"Bob\", \"Charlie\"]\n",
    "\n",
    "person_dicts = list(map(lambda name: {\"name\": name, \"name_length\": len(name)}, person_names))\n",
    "\n",
    "print(f\"{person_dicts = }\")"
   ]
  },
  {
   "cell_type": "markdown",
   "id": "41d2eae4-e9c2-4932-9aa6-c80dab6ef3d3",
   "metadata": {},
   "source": [
    "### filter\n",
    "\n",
    "![](./static/filter-1.png)"
   ]
  },
  {
   "cell_type": "code",
   "execution_count": 12,
   "id": "4667e63e-fba9-47ea-ba72-3511d781e427",
   "metadata": {},
   "outputs": [
    {
     "name": "stdout",
     "output_type": "stream",
     "text": [
      "elders = [{'name': 'Bob', 'age': 65}, {'name': 'Charlie', 'age': 80}]\n"
     ]
    }
   ],
   "source": [
    "elders = list(filter(lambda person: person.get(\"age\") > 60, data))\n",
    "\n",
    "print(f\"{elders = }\")"
   ]
  },
  {
   "cell_type": "markdown",
   "id": "9bf39df5-7357-4b20-b827-5bba3f326feb",
   "metadata": {},
   "source": [
    "### reduce\n",
    "\n",
    "![](./static/reduce-1.png)\n",
    "\n",
    "![](./static/reduce-with-initial-1.png)"
   ]
  },
  {
   "cell_type": "code",
   "execution_count": 5,
   "id": "50ecd627-3541-4e41-923b-97406f95b983",
   "metadata": {},
   "outputs": [
    {
     "name": "stdout",
     "output_type": "stream",
     "text": [
      "total_age = 190\n"
     ]
    }
   ],
   "source": [
    "from functools import reduce\n",
    "\n",
    "\n",
    "data = [\n",
    "    {\"name\": \"Alice\", \"age\": 45},\n",
    "    {\"name\": \"Bob\", \"age\": 65},\n",
    "    {\"name\": \"Charlie\", \"age\": 80},\n",
    "]\n",
    "\n",
    "def add_ages(total, person):\n",
    "    return total + person[\"age\"]\n",
    "\n",
    "\n",
    "total_age = reduce(add_ages, data, 0)\n",
    "\n",
    "print(f\"{total_age = }\")"
   ]
  },
  {
   "cell_type": "markdown",
   "id": "f4806407-56ee-447c-a28b-2c7c132f0660",
   "metadata": {},
   "source": [
    "### iter"
   ]
  },
  {
   "cell_type": "code",
   "execution_count": 6,
   "id": "6cdaf69f-6006-456d-8a23-6f23d18adf28",
   "metadata": {},
   "outputs": [
    {
     "name": "stdout",
     "output_type": "stream",
     "text": [
      "tail = [10, 9, 8, 7, 6]\n"
     ]
    }
   ],
   "source": [
    "numbers = [1, 2, 3, 4, 5, None, 6, 7, 8, 9, 10]\n",
    "\n",
    "tail = list(iter(numbers.pop, None))\n",
    "print(f\"{tail = }\")"
   ]
  },
  {
   "cell_type": "code",
   "execution_count": 7,
   "id": "520f91b6-bc7b-406b-a25e-0e28d20985d8",
   "metadata": {},
   "outputs": [
    {
     "data": {
      "text/plain": [
       "[1, 2, 3, 4, 5]"
      ]
     },
     "execution_count": 7,
     "metadata": {},
     "output_type": "execute_result"
    }
   ],
   "source": [
    "numbers"
   ]
  },
  {
   "cell_type": "markdown",
   "id": "d332b849-3a4a-4ad4-97de-d49086cd465e",
   "metadata": {},
   "source": [
    "[<< [Functional Programming](./02_functional_programming.ipynb) | [Index](./00_index.ipynb) | [Pure Functions and Immutability](./04_pure_functions_and_immutability.ipynb) >>]"
   ]
  }
 ],
 "metadata": {
  "kernelspec": {
   "display_name": "Python 3 (ipykernel)",
   "language": "python",
   "name": "python3"
  },
  "language_info": {
   "codemirror_mode": {
    "name": "ipython",
    "version": 3
   },
   "file_extension": ".py",
   "mimetype": "text/x-python",
   "name": "python",
   "nbconvert_exporter": "python",
   "pygments_lexer": "ipython3",
   "version": "3.8.10"
  }
 },
 "nbformat": 4,
 "nbformat_minor": 5
}
