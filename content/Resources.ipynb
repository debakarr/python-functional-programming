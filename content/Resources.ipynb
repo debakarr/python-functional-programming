{
 "cells": [
  {
   "cell_type": "markdown",
   "id": "e1a55420-3007-473f-a3fc-0ce2a1408204",
   "metadata": {
    "editable": true,
    "slideshow": {
     "slide_type": ""
    },
    "tags": []
   },
   "source": [
    "# Other Resources\n",
    "\n",
    "*   [hemanth/functional-programming-jargon](https://github.com/hemanth/functional-programming-jargon)\n",
    "*   [jmesyou/functional-programming-jargon.py](https://github.com/jmesyou/functional-programming-jargon.py)\n",
    "*   [A practical introduction to functional programming](https://maryrosecook.com/blog/post/a-practical-introduction-to-functional-programming)\n",
    "*   [Functional Programming For The Rest of Us | defmacro](https://www.defmacro.org/2006/06/19/fp.html)\n",
    "*   [Functional Programming Patterns (BuildStuff '14)](https://www.slideshare.net/ScottWlaschin/fp-patterns-buildstufflt)\n",
    "*   [VanRoyChapter.pdf](https://www.info.ucl.ac.be/~pvr/VanRoyChapter.pdf)\n",
    "*   [functional-programming-learning-path/python](https://github.com/imteekay/functional-programming-learning-path/tree/master/python)\n",
    "*   [sfermigier/awesome-functional-python](https://github.com/sfermigier/awesome-functional-python)\n",
    "*   [Why isn't Python very good for functional programming? - Stack Overflow](https://stackoverflow.com/questions/1017621/why-isnt-python-very-good-for-functional-programming)\n",
    "*   [Functional Programming with Python](https://kachayev.github.io/talks/uapycon2012/#/12)\n",
    "*   [Functional Programming for Pragmatists • Richard Feldman](https://youtu.be/3n17wHe5wEw)"
   ]
  }
 ],
 "metadata": {
  "kernelspec": {
   "display_name": "Python 3 (ipykernel)",
   "language": "python",
   "name": "python3"
  },
  "language_info": {
   "codemirror_mode": {
    "name": "ipython",
    "version": 3
   },
   "file_extension": ".py",
   "mimetype": "text/x-python",
   "name": "python",
   "nbconvert_exporter": "python",
   "pygments_lexer": "ipython3",
   "version": "3.8.10"
  }
 },
 "nbformat": 4,
 "nbformat_minor": 5
}
