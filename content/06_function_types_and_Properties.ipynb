{
 "cells": [
  {
   "cell_type": "markdown",
   "id": "af49a6e7-c778-4a48-8e62-1d0c53b099fa",
   "metadata": {},
   "source": [
    "[<< [Function Control Structures](./05_function_control_structures.ipynb) | [Index](./00_index.ipynb) | [Intermediate Function Concepts](./07_intermediate_function_concepts.ipynb) >>]"
   ]
  },
  {
   "cell_type": "markdown",
   "id": "e29cd33d-74f2-4de6-96ae-ead14854f169",
   "metadata": {},
   "source": [
    "# Function Types and Properties"
   ]
  },
  {
   "cell_type": "markdown",
   "id": "23e229de-3477-43a6-b44a-7d3f22289ac8",
   "metadata": {},
   "source": [
    "## Predicate\n",
    "\n",
    "- A [Predicate](https://en.wikipedia.org/wiki/Predicate_(computer_programming)) in functional programming is a function that returns a boolean value.\n",
    "- Predicates are used extensively in functional programming languages for functions like filter, where they help decide which elements of a collection meet a certain criterion.\n",
    "- They are often passed as arguments to higher-order functions that need to make decisions based on runtime data.\n",
    "- Predicates can be combined using functional constructs like 'and', 'or', and 'not' to create more complex decision-making functions.\n",
    "\n",
    "```mermaid\r\n",
    "graph TD\r\n",
    "    A[Input] --> B[Predicate Function]\r\n",
    "    B --> C[True]\r\n",
    "    B --> D[False]\r\n",
    "    style B fill:#f9f,stroke:#333,stroke-width:4px\r\n",
    "    style A fill:#ccf,stroke:#f66,stroke-width:2px,color:#333\r\n",
    "    style C fill:#cfc,stroke:#f66,stroke-width:2px,color:#333\r\n",
    "    style D fill:#fcc,stroke:#f66,stroke-width:2px,color:#333\r\n",
    "```"
   ]
  },
  {
   "cell_type": "code",
   "execution_count": 1,
   "id": "cbbb24e6-efc2-4a4c-a7d3-c2bb0261ceb9",
   "metadata": {},
   "outputs": [
    {
     "name": "stdout",
     "output_type": "stream",
     "text": [
      "[2, 4, 6, 8, 10, 12, 14, 16, 18]\n"
     ]
    }
   ],
   "source": [
    "is_even_predicate = lambda num: num % 2 == 0\n",
    "\n",
    "even_numbers = list(filter(is_even_predicate, range(1, 20)))\n",
    "print(f\"{even_numbers}\")"
   ]
  },
  {
   "cell_type": "markdown",
   "id": "20c6d2af-c63a-49cd-993c-71b84eaeac8a",
   "metadata": {},
   "source": [
    "## Idempotent\n",
    "\n",
    "- [Idempotent](https://en.wikipedia.org/wiki/Idempotence) in functional programming refers to a function that always produces the same output given the same input, regardless of how many times it's called.\n",
    "- This property is crucial for functional programming, as it allows for referential transparency, a key aspect of functional programming where a function call can be replaced with its resulting value without changing the program's behavior.\n",
    "- Idempotent functions are deterministic and have no side effects, which makes them safer and easier to reason about.\n",
    "- In functional programming, idempotence is often used to improve performance through techniques like memoization, where the results of expensive function calls are cached for later use."
   ]
  },
  {
   "cell_type": "code",
   "execution_count": 2,
   "id": "61400053-4e28-442b-9ad8-73f594a732ee",
   "metadata": {},
   "outputs": [
    {
     "name": "stdout",
     "output_type": "stream",
     "text": [
      "abs(-10) = 10\n",
      "abs(abs(-10)) = 10\n",
      "abs(abs(abs(-10))) = 10\n"
     ]
    }
   ],
   "source": [
    "import math\n",
    "\n",
    "\n",
    "print(f\"{abs(-10) = }\")\n",
    "print(f\"{abs(abs(-10)) = }\")\n",
    "print(f\"{abs(abs(abs(-10))) = }\")"
   ]
  },
  {
   "cell_type": "markdown",
   "id": "e5e7a4f0-0a3c-44ec-b623-ba1370dad5a6",
   "metadata": {},
   "source": [
    "```mermaid\n",
    "graph LR\n",
    "    A[-10] --> B[abs Function]\n",
    "    B --> C[10]\n",
    "    C --> D[abs Function]\n",
    "    D --> E[10]\n",
    "    E --> F[abs Function]\n",
    "    F --> G[10]\n",
    "    style B fill:#f9f,stroke:#333,stroke-width:4px\n",
    "    style D fill:#f9f,stroke:#333,stroke-width:4px\n",
    "    style F fill:#f9f,stroke:#333,stroke-width:4px\n",
    "    style A fill:#ccf,stroke:#f66,stroke-width:2px,color:#333\n",
    "    style C fill:#cfc,stroke:#f66,stroke-width:2px,color:#333\n",
    "    style E fill:#cfc,stroke:#f66,stroke-width:2px,color:#333\n",
    "    style G fill:#cfc,stroke:#f66,stroke-width:2px,color:#333\n",
    "```"
   ]
  },
  {
   "cell_type": "code",
   "execution_count": 3,
   "id": "062ade32-f5d6-4b81-837c-a807310b5752",
   "metadata": {},
   "outputs": [
    {
     "name": "stdout",
     "output_type": "stream",
     "text": [
      "Initial: {0, 1, 2, 3, 4, 5, 6, 7, 8, 9}\n",
      "After discard(3): {0, 1, 2, 4, 5, 6, 7, 8, 9}\n",
      "Again after discard(3): {0, 1, 2, 4, 5, 6, 7, 8, 9}\n"
     ]
    }
   ],
   "source": [
    "numbers = set(range(10))\n",
    "\n",
    "print(f\"Initial: {numbers}\")\n",
    "numbers.discard(3)\n",
    "print(f\"After discard(3): {numbers}\")\n",
    "numbers.discard(3)\n",
    "print(f\"Again after discard(3): {numbers}\")"
   ]
  },
  {
   "cell_type": "markdown",
   "id": "59186c3c-4d91-416d-85e1-dae24358fd0f",
   "metadata": {},
   "source": [
    "```mermaid\n",
    "graph LR\n",
    "    A[\"Set: {0,1,2,3,4,5,6,7,8,9}\"] --> B[\"discard(3)\"]\n",
    "    B --> C[\"Set: {0,1,2,4,5,6,7,8,9}\"]\n",
    "    C --> D[\"discard(3)\"]\n",
    "    D --> E[\"Set: {0,1,2,4,5,6,7,8,9}\"]\n",
    "    style B fill:#f9f,stroke:#333,stroke-width:4px\n",
    "    style D fill:#f9f,stroke:#333,stroke-width:4px\n",
    "    style A fill:#ccf,stroke:#f66,stroke-width:2px,color:#333\n",
    "    style C fill:#cfc,stroke:#f66,stroke-width:2px,color:#333\n",
    "    style E fill:#cfc,stroke:#f66,stroke-width:2px,color:#333\n",
    "```"
   ]
  },
  {
   "cell_type": "markdown",
   "id": "8c8bb8ed-7944-46b3-bd43-984f205d77f2",
   "metadata": {},
   "source": [
    "[<< [Function Control Structures](./05_function_control_structures.ipynb) | [Index](./00_index.ipynb) | [Intermediate Function Concepts](./07_intermediate_function_concepts.ipynb) >>]"
   ]
  }
 ],
 "metadata": {
  "kernelspec": {
   "display_name": "Python 3 (ipykernel)",
   "language": "python",
   "name": "python3"
  },
  "language_info": {
   "codemirror_mode": {
    "name": "ipython",
    "version": 3
   },
   "file_extension": ".py",
   "mimetype": "text/x-python",
   "name": "python",
   "nbconvert_exporter": "python",
   "pygments_lexer": "ipython3",
   "version": "3.8.10"
  }
 },
 "nbformat": 4,
 "nbformat_minor": 5
}
