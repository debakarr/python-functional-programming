{
 "cells": [
  {
   "cell_type": "markdown",
   "id": "b3d3cc24-199d-4123-9737-bf11d207a075",
   "metadata": {},
   "source": [
    "- [Programming Paradigm](./01_programming_paradigm.ipynb)\n",
    "- [Functional Programming](./02_functional_programming.ipynb)\n",
    "- [First-Class and High Order Functions](./03_first_class_and_higher_order_functions.ipynb) \n",
    "  - [First class function](./03_first_class_and_higher_order_functions.ipynb#First-Class-Functions)\n",
    "  - [High order function](./03_first_class_and_higher_order_functions.ipynb#High-Order-Functions)\n",
    "- [Pure Functions and Immutability](./04_pure_functions_and_immutability.ipynb) \n",
    "  - [Pure function](./04_pure_functions_and_immutability.ipynb#Pure-Functions)\n",
    "  - [Immutability and side-effect](./04_pure_functions_and_immutability.ipynb#Immutability-and-side-effects)\n",
    "  - [Referential transparency](./04_pure_functions_and_immutability.ipynb#Referential-Transparency)\n",
    "- [Function Control Structures](./05_function_control_structures.ipynb) \n",
    "  - [Recursion over loop](./05_function_control_structures.ipynb#Recursion)\n",
    "  - [Lazy evaluation](./05_function_control_structures.ipynb#Lazy-Evaluation)\n",
    "- [Function Types and Properties](./06_function_types_and_Properties.ipynb) \n",
    "  - [Predicate](./06_function_types_and_Properties.ipynb#Predicate)\n",
    "  - [Idempotent](./06_function_types_and_Properties.ipynb#Idempotent)\n",
    "- [Intermediate Function Concepts](./07_intermediate_function_concepts.ipynb) \n",
    "  - [Closures](./07_intermediate_function_concepts.ipynb#Closures)\n",
    "  - [Partial function](./07_intermediate_function_concepts.ipynb#Partial-Application)\n",
    "  - [Currying](./07_intermediate_function_concepts.ipynb#Currying)\n",
    "- [Functional Programming and OOP Intersection](./08_functional_programming_and_oop.ipynb) \n",
    "  - [Singledispatch](./08_functional_programming_and_oop.ipynb#Single-Dispatch)\n",
    "- [Advanced Functional Programming Concepts](./09_advanced_functional_programming_concepts.ipynb) \n",
    "  - [Functors](./09_advanced_functional_programming_concepts.ipynb#Functors)\n",
    "  - [Applicative functors](./09_advanced_functional_programming_concepts.ipynb#Applicative-Functors)\n",
    "  - [Monad](./09_advanced_functional_programming_concepts.ipynb#Monad)"
   ]
  }
 ],
 "metadata": {
  "kernelspec": {
   "display_name": "Python 3 (ipykernel)",
   "language": "python",
   "name": "python3"
  },
  "language_info": {
   "codemirror_mode": {
    "name": "ipython",
    "version": 3
   },
   "file_extension": ".py",
   "mimetype": "text/x-python",
   "name": "python",
   "nbconvert_exporter": "python",
   "pygments_lexer": "ipython3",
   "version": "3.10.11"
  }
 },
 "nbformat": 4,
 "nbformat_minor": 5
}
