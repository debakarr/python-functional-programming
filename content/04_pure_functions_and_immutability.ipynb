{
 "cells": [
  {
   "cell_type": "markdown",
   "id": "3f52d848-81f0-4598-aefc-ec06a54e29d1",
   "metadata": {},
   "source": [
    "[<< [First-Class and High Order Functions](./03_first_class_and_higher_order_functions.ipynb) | [Index](./00_index.ipynb) | [Function Control Structures](./05_function_control_structures.ipynb) >>]"
   ]
  },
  {
   "cell_type": "markdown",
   "id": "e9bf9daf-df7b-4fab-a4d7-c1705a1ca48f",
   "metadata": {},
   "source": [
    "# Pure Functions and Immutability"
   ]
  },
  {
   "cell_type": "markdown",
   "id": "c3d94407-14dd-4080-8839-1c2469c27ee3",
   "metadata": {},
   "source": [
    "## Pure Functions\n",
    "\n",
    "- [Pure Functions](https://en.wikipedia.org/wiki/Pure_function) are a programming feature.\n",
    "- They always produce the same output for the same set of inputs.\n",
    "- They have no side effects.\n",
    "- These functions do not depend on or modify any external state.\n",
    "- They are predictable and easy to test or debug.\n",
    "- They are a fundamental concept in functional programming.\n",
    "- They enable features like memoization and referential transparency."
   ]
  },
  {
   "cell_type": "markdown",
   "id": "03cad70c-bdab-4bd5-bdef-d6dfe8164709",
   "metadata": {},
   "source": [
    "`abs` is a pure function.\n",
    "\n",
    "[![](https://mermaid.ink/img/pako:eNotjj0LwjAURf9KeF0bUOpiBsHq6KRjX4doXmwwSUs-0FL63w3idu7lwL0LPEZFIOAZ5DSwyxX9sePbTc84P7C2k_fYo29_6dSVHn1MsyXWMm2sFZXe6zqmML5IVE3T_Jm_jUqD2E0f9FCDo-CkUWVmQc8YQhrIEYIoqEjLbBMC-rWoMqfxNvsHiBQy1ZAnJROdjSwHHQgtbaT1C5O7O8A?type=png)](https://mermaid.live/edit#pako:eNotjj0LwjAURf9KeF0bUOpiBsHq6KRjX4doXmwwSUs-0FL63w3idu7lwL0LPEZFIOAZ5DSwyxX9sePbTc84P7C2k_fYo29_6dSVHn1MsyXWMm2sFZXe6zqmML5IVE3T_Jm_jUqD2E0f9FCDo-CkUWVmQc8YQhrIEYIoqEjLbBMC-rWoMqfxNvsHiBQy1ZAnJROdjSwHHQgtbaT1C5O7O8A)"
   ]
  },
  {
   "cell_type": "code",
   "execution_count": 1,
   "id": "8ba7a2a9-249e-429b-b94f-3209138cbb7e",
   "metadata": {},
   "outputs": [
    {
     "name": "stdout",
     "output_type": "stream",
     "text": [
      "return_val = 10\n"
     ]
    }
   ],
   "source": [
    "return_val = abs(-10)\n",
    "print(f\"{return_val = }\")"
   ]
  },
  {
   "cell_type": "markdown",
   "id": "04417f64-9510-4598-a82b-3368f289bb90",
   "metadata": {},
   "source": [
    "### Immutability and side-effects \n",
    "\n",
    "- [Immutability](https://en.wikipedia.org/wiki/Immutable_object) is a principle in programming where data cannot be changed after it's created.\n",
    "- Once a variable is set, its value cannot be changed. Instead, new variables must be created.\n",
    "- This leads to safer and more predictable code, as you can be sure that data won't be changed unexpectedly.\n",
    "- It's a key aspect of functional programming and many functional programming languages enforce immutability.\n",
    "- Immutability can help make your code easier to reason about, test, and debug. It also makes your code more thread-safe in multi-threaded environments."
   ]
  },
  {
   "cell_type": "markdown",
   "id": "32b5837d-8c79-4750-aa90-947a00205efb",
   "metadata": {},
   "source": [
    "It's very easy in Python to write non-pure function because of `mutability` and ability to use `global` or `non_local` keyword."
   ]
  },
  {
   "cell_type": "code",
   "execution_count": 2,
   "id": "da8f6c09-a518-45a8-a1c8-f4ea4f0d97eb",
   "metadata": {},
   "outputs": [
    {
     "name": "stdout",
     "output_type": "stream",
     "text": [
      "plural_words = ['cats', 'dogs', 'tables', 'babies', 'glasses']\n",
      "words = ['cats', 'dogs', 'tables', 'babies', 'glasses']\n",
      "plural_words = ['catses', 'dogses', 'tableses', 'babieses', 'glasseses']\n"
     ]
    }
   ],
   "source": [
    "def pluralize(words):\n",
    "    for index, word in enumerate(words):\n",
    "        if word.endswith(\"y\"):\n",
    "            # Replace the final 'y' with 'ies'\n",
    "            word = word[:-1] + \"ies\"\n",
    "        elif word.endswith(\"s\"):\n",
    "            # Add 'es' to words ending with 's'\n",
    "            word = word + \"es\"\n",
    "        else:\n",
    "            word = word + \"s\"\n",
    "        words[index] = word\n",
    "    return words\n",
    "\n",
    "\n",
    "words = [\"cat\", \"dog\", \"table\", \"baby\", \"glass\"]\n",
    "plural_words = pluralize(words)\n",
    "print(f\"{plural_words = }\")\n",
    "\n",
    "# Function is not pure as it modified the input list\n",
    "print(f\"{words = }\")\n",
    "\n",
    "# Also calling with same input gives different output\n",
    "plural_words = pluralize(words)\n",
    "print(f\"{plural_words = }\")"
   ]
  },
  {
   "cell_type": "markdown",
   "id": "984fd72a-4286-4f51-a8a7-973c40eb9f4f",
   "metadata": {},
   "source": [
    "Pure version will not be modifying the original list as well as return same output for multiple function call"
   ]
  },
  {
   "cell_type": "code",
   "execution_count": 3,
   "id": "2b5a4999-9f32-4e4c-984c-f8b10e4f775e",
   "metadata": {},
   "outputs": [
    {
     "name": "stdout",
     "output_type": "stream",
     "text": [
      "plural_words = ['cats', 'dogs', 'tables', 'babies', 'glasses']\n",
      "words = ['cat', 'dog', 'table', 'baby', 'glass']\n",
      "plural_words = ['cats', 'dogs', 'tables', 'babies', 'glasses']\n"
     ]
    }
   ],
   "source": [
    "def pluralize(words):\n",
    "    plural_words = []\n",
    "    for word in words:\n",
    "        if word.endswith(\"y\"):\n",
    "            # Replace the final 'y' with 'ies'\n",
    "            plural_words.append(word[:-1] + \"ies\")\n",
    "        elif word.endswith(\"s\"):\n",
    "            # Add 'es' to words ending with 's'\n",
    "            plural_words.append(word + \"es\")\n",
    "        else:\n",
    "            # Just add 's' for all other words\n",
    "            plural_words.append(word + \"s\")\n",
    "    return plural_words\n",
    "\n",
    "\n",
    "words = [\"cat\", \"dog\", \"table\", \"baby\", \"glass\"]\n",
    "plural_words = pluralize(words)\n",
    "print(f\"{plural_words = }\")\n",
    "\n",
    "# Function is pure as it did not modified the input list\n",
    "print(f\"{words = }\")\n",
    "\n",
    "# Also calling with same input gives same output\n",
    "plural_words = pluralize(words)\n",
    "print(f\"{plural_words = }\")"
   ]
  },
  {
   "cell_type": "markdown",
   "id": "142d7967-e726-472d-b82c-dc74c0b8d7e3",
   "metadata": {},
   "source": [
    "Even pure function may lead to different output because of `mutability`"
   ]
  },
  {
   "cell_type": "code",
   "execution_count": 4,
   "id": "c9c21761-3663-427d-9aba-b82604055dba",
   "metadata": {},
   "outputs": [
    {
     "name": "stdout",
     "output_type": "stream",
     "text": [
      "get_last called in thread 1: get_last(numbers) = 5\n",
      "get_last called in thread 2: get_last(numbers) = 40\n"
     ]
    }
   ],
   "source": [
    "def get_last(numbers):\n",
    "    return numbers[-1]\n",
    "\n",
    "\n",
    "numbers = [1, 2, 3, 4, 5]  # Mutable\n",
    "\n",
    "print(f\"get_last called in thread 1: {get_last(numbers) = }\")\n",
    "\n",
    "# Now if the data change\n",
    "numbers[-1] = 40\n",
    "\n",
    "print(f\"get_last called in thread 2: {get_last(numbers) = }\")"
   ]
  },
  {
   "cell_type": "markdown",
   "id": "6d259262-2683-424e-b7bd-fcad34261df7",
   "metadata": {},
   "source": [
    "Here is where even pure function fails as the data itself is mutable. Hence it functional programming we use immutable objects like `int`, `bool`, `float`, `str`, `tuple`, `collections.namedtuple`, `typing.NamedTuple`, or `frozenset`.\n",
    "\n",
    "You can also define custom immutable object by raising exception for `__setattr__` and `__delattr__`"
   ]
  },
  {
   "cell_type": "markdown",
   "id": "86e4821b-9d5f-48f3-a3bb-703466312db1",
   "metadata": {},
   "source": [
    "Mutable arguments restricts [`\"Memoization\"`](https://en.wikipedia.org/wiki/Memoization)"
   ]
  },
  {
   "cell_type": "code",
   "execution_count": 5,
   "id": "25daca2f-58f4-4c6a-8675-2b1014706b52",
   "metadata": {
    "tags": [
     "raises-exception"
    ]
   },
   "outputs": [
    {
     "ename": "TypeError",
     "evalue": "unhashable type: 'list'",
     "output_type": "error",
     "traceback": [
      "\u001b[1;31m---------------------------------------------------------------------------\u001b[0m",
      "\u001b[1;31mTypeError\u001b[0m                                 Traceback (most recent call last)",
      "Cell \u001b[1;32mIn[5], line 11\u001b[0m\n\u001b[0;32m      6\u001b[0m     \u001b[38;5;28;01mreturn\u001b[39;00m numbers[\u001b[38;5;241m-\u001b[39m\u001b[38;5;241m1\u001b[39m]\n\u001b[0;32m      9\u001b[0m numbers \u001b[38;5;241m=\u001b[39m [\u001b[38;5;241m1\u001b[39m, \u001b[38;5;241m2\u001b[39m, \u001b[38;5;241m3\u001b[39m, \u001b[38;5;241m4\u001b[39m, \u001b[38;5;241m5\u001b[39m]  \u001b[38;5;66;03m# Mutable\u001b[39;00m\n\u001b[1;32m---> 11\u001b[0m \u001b[43mget_last\u001b[49m\u001b[43m(\u001b[49m\u001b[43mnumbers\u001b[49m\u001b[43m)\u001b[49m\n\u001b[0;32m     12\u001b[0m get_last(numbers)\n",
      "\u001b[1;31mTypeError\u001b[0m: unhashable type: 'list'"
     ]
    }
   ],
   "source": [
    "from functools import lru_cache\n",
    "\n",
    "\n",
    "@lru_cache\n",
    "def get_last(numbers):\n",
    "    return numbers[-1]\n",
    "\n",
    "\n",
    "numbers = [1, 2, 3, 4, 5]  # Mutable\n",
    "\n",
    "get_last(numbers)\n",
    "get_last(numbers)"
   ]
  },
  {
   "cell_type": "markdown",
   "id": "5261cfb0-8d49-419f-900e-11a746b006e5",
   "metadata": {},
   "source": [
    "Hence while doing functional programming one must use immutable objects."
   ]
  },
  {
   "cell_type": "code",
   "execution_count": 6,
   "id": "99a6173b-45ff-402a-9914-0b61a1578721",
   "metadata": {},
   "outputs": [
    {
     "data": {
      "text/plain": [
       "5"
      ]
     },
     "execution_count": 6,
     "metadata": {},
     "output_type": "execute_result"
    }
   ],
   "source": [
    "from functools import lru_cache\n",
    "\n",
    "\n",
    "@lru_cache\n",
    "def get_last(numbers):\n",
    "    return numbers[-1]\n",
    "\n",
    "\n",
    "numbers = (1, 2, 3, 4, 5)  # Immutable\n",
    "\n",
    "get_last(numbers)\n",
    "get_last(numbers)"
   ]
  },
  {
   "cell_type": "markdown",
   "id": "f2d99ffa-0adc-4c1f-a381-eba163643d52",
   "metadata": {},
   "source": [
    "### Referential Transparency\n",
    "\n",
    "- [Referential Transparency](https://en.wikipedia.org/wiki/Referential_transparency) is a property of programming where an expression, given the same input, will always produce the same output without causing side effects.\n",
    "- In a referentially transparent system, a function call can be replaced with its corresponding return value without changing the program's behavior.\n",
    "- This concept is fundamental to functional programming and allows for various optimizations, such as memoization and lazy evaluation.\n",
    "- It makes the program easier to reason about, test, and debug, as the same input will always produce the same output.\n",
    "- Referential transparency also enables concurrent and parallel execution of code."
   ]
  },
  {
   "cell_type": "markdown",
   "id": "32577cca-3228-4dc7-a97f-d35e511cc987",
   "metadata": {
    "tags": [
     "raises-exception"
    ]
   },
   "source": [
    "[<< [First-Class and High Order Functions](./03_first_class_and_higher_order_functions.ipynb) | [Index](./00_index.ipynb) | [Function Control Structures](./05_function_control_structures.ipynb) >>]"
   ]
  }
 ],
 "metadata": {
  "kernelspec": {
   "display_name": "Python 3 (ipykernel)",
   "language": "python",
   "name": "python3"
  },
  "language_info": {
   "codemirror_mode": {
    "name": "ipython",
    "version": 3
   },
   "file_extension": ".py",
   "mimetype": "text/x-python",
   "name": "python",
   "nbconvert_exporter": "python",
   "pygments_lexer": "ipython3",
   "version": "3.10.11"
  }
 },
 "nbformat": 4,
 "nbformat_minor": 5
}
