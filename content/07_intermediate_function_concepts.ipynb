{
 "cells": [
  {
   "cell_type": "markdown",
   "id": "3a73dd71-16f4-4d02-acaf-717de9b84f50",
   "metadata": {},
   "source": [
    "[<< [Function Types and Properties](./06_function_types_and_Properties.ipynb) | [Index](./00_index.ipynb) | [Functional Programming and OOP Intersection](./08_functional_programming_and_oop.ipynb) >>]"
   ]
  },
  {
   "cell_type": "markdown",
   "id": "06ddb835-c5e4-4ffd-a7d4-1bebce485579",
   "metadata": {},
   "source": [
    "# More intermediate functional concepts"
   ]
  },
  {
   "cell_type": "markdown",
   "id": "7f4bc040-47a1-4270-8b25-eee9b961af44",
   "metadata": {},
   "source": [
    "## Closures\n",
    "\n",
    "- A [Closure](https://en.wikipedia.org/wiki/Closure_(computer_programming)) in functional programming is a function that has access to variables from its outer (enclosing) function's scope even after the outer function has returned.\n",
    "- This behavior allows the function to \"remember\" the environment in which it was created.\n",
    "- Closures are used in various programming paradigms, but they are a crucial feature in functional programming languages like JavaScript, Python, and Scala.\n",
    "- They are often used for data hiding and encapsulation, as well as in callback functions and functional programming constructs like currying."
   ]
  },
  {
   "cell_type": "markdown",
   "id": "4117dc19-fef3-4ed2-a2b0-3a1ede8110b9",
   "metadata": {},
   "source": [
    "[**Objects are merely a poor man's closures and closures are a poor man's object**](https://wiki.c2.com/?ClosuresAndObjectsAreEquivalent)"
   ]
  },
  {
   "cell_type": "markdown",
   "id": "ebfc0f91-70d5-4c69-abbb-aa4d7f7f96d7",
   "metadata": {},
   "source": [
    "[**Pre-requisite:** Namespaces and Closures](https://github.com/debakarr/intermediate-python/blob/main/content/04_namespaces_scopes_and_closures.ipynb)"
   ]
  },
  {
   "cell_type": "code",
   "execution_count": 1,
   "id": "3a9b9e0c-3e73-43fb-be2f-31090d67a40a",
   "metadata": {},
   "outputs": [],
   "source": [
    "# def add(x, y):\n",
    "#     return x + y\n",
    "\n",
    "def add_to(x):\n",
    "    def add(y):\n",
    "        return x + y\n",
    "\n",
    "    return add"
   ]
  },
  {
   "cell_type": "code",
   "execution_count": 2,
   "id": "c1cdc906-ac05-4509-81c4-8ada44ee539e",
   "metadata": {},
   "outputs": [
    {
     "name": "stdout",
     "output_type": "stream",
     "text": [
      "add_to_2.__code__.co_freevars = ('x',)\n",
      "add_to_2.__code__.co_freevars = ('x',)\n",
      "\n",
      "add_to_2.__closure__ = (<cell at 0x000002303E81C2E0: int object at 0x00007FFA17A31730>,)\n",
      "add_to_3.__closure__ = (<cell at 0x000002303E81C2B0: int object at 0x00007FFA17A31750>,)\n",
      "\n",
      "add_to_2.__closure__[0].cell_contents = 2\n",
      "add_to_3.__closure__[0].cell_contents = 3\n",
      "\n",
      "add_to_2(2) = 4\n",
      "add_to_2(3) = 5\n",
      "add_to_3(3) = 6\n",
      "add_to_3(4) = 7\n"
     ]
    }
   ],
   "source": [
    "add_to_2 = add_to(2)\n",
    "add_to_3 = add_to(3)\n",
    "\n",
    "print(f\"{add_to_2.__code__.co_freevars = }\")\n",
    "print(f\"{add_to_2.__code__.co_freevars = }\")\n",
    "print()\n",
    "print(f\"{add_to_2.__closure__ = }\")\n",
    "print(f\"{add_to_3.__closure__ = }\")\n",
    "print()\n",
    "print(f\"{add_to_2.__closure__[0].cell_contents = }\")\n",
    "print(f\"{add_to_3.__closure__[0].cell_contents = }\")\n",
    "print()\n",
    "\n",
    "print(f\"{add_to_2(2) = }\")\n",
    "print(f\"{add_to_2(3) = }\")\n",
    "print(f\"{add_to_3(3) = }\")\n",
    "print(f\"{add_to_3(4) = }\")"
   ]
  },
  {
   "cell_type": "markdown",
   "id": "72ad2959-4fd4-491c-aca4-c228ec6e6ee3",
   "metadata": {
    "editable": true,
    "slideshow": {
     "slide_type": ""
    },
    "tags": []
   },
   "source": [
    "```mermaid\n",
    "graph LR\n",
    "    A[\"add_to(2)\"] --> B[\"add function with x=2\"]\n",
    "    B --> C[\"add_to_2\"]\n",
    "    C --> D[\"add_to_2(2)\"]\n",
    "    D --> E[\"Output: 4\"]\n",
    "    C --> F[\"add_to_2(3)\"]\n",
    "    F --> G[\"Output: 5\"]\n",
    "    H[\"add_to(3)\"] --> I[\"add function with x=3\"]\n",
    "    I --> J[\"add_to_3\"]\n",
    "    J --> K[\"add_to_3(3)\"]\n",
    "    K --> L[\"Output: 6\"]\n",
    "    J --> M[\"add_to_3(4)\"]\n",
    "    M --> N[\"Output: 7\"]\n",
    "    style B fill:#f9f,stroke:#333,stroke-width:4px\n",
    "    style I fill:#f9f,stroke:#333,stroke-width:4px\n",
    "    style C fill:#f9f,stroke:#333,stroke-width:4px\n",
    "    style J fill:#f9f,stroke:#333,stroke-width:4px\n",
    "    style A fill:#ccf,stroke:#f66,stroke-width:2px,color:#333\n",
    "    style H fill:#ccf,stroke:#f66,stroke-width:2px,color:#333\n",
    "    style D fill:#ccf,stroke:#f66,stroke-width:2px,color:#333\n",
    "    style F fill:#ccf,stroke:#f66,stroke-width:2px,color:#333\n",
    "    style K fill:#ccf,stroke:#f66,stroke-width:2px,color:#333\n",
    "    style M fill:#ccf,stroke:#f66,stroke-width:2px,color:#333\n",
    "    style E fill:#cfc,stroke:#f66,stroke-width:2px,color:#333\n",
    "    style G fill:#cfc,stroke:#f66,stroke-width:2px,color:#333\n",
    "    style L fill:#cfc,stroke:#f66,stroke-width:2px,color:#333\n",
    "    style N fill:#cfc,stroke:#f66,stroke-width:2px,color:#333\n",
    "```"
   ]
  },
  {
   "cell_type": "markdown",
   "id": "3401ecc1-212b-473b-9953-49b534276475",
   "metadata": {
    "editable": true,
    "slideshow": {
     "slide_type": ""
    },
    "tags": []
   },
   "source": [
    "In the example, we have a function `add_to(x)` that creates and returns another function `add(y)`. This inner function `add(y)` closes over the variable `x` from its outer scope, forming a closure. The closure remembers the value of `x` even after the outer function has finished executing.\n",
    "\n",
    "In this case, the closure `add(y)` is acting like an object, with `x` being its state (like an object's attribute) and the function `add(y)` itself being its behavior (like an object's method). You can create multiple \"instances\" of this \"object\" with different states, like so:\n",
    "\n",
    "```python\n",
    "add_to_2 = add_to(2)  # \"Object\" where x is 2\n",
    "add_to_3 = add_to(3)  # \"Object\" where x is 3\n",
    "```\n",
    "\n",
    "Also note that The Python garbage collector does not deallocate the closure and its underlying variables because there is at least one reference to it, which prevents it from being garbage collected."
   ]
  },
  {
   "cell_type": "markdown",
   "id": "5dd3c5fc-0deb-4d4f-a9de-5fbbad58ed7f",
   "metadata": {},
   "source": [
    "**Lamda version**:"
   ]
  },
  {
   "cell_type": "code",
   "execution_count": 3,
   "id": "0f4dff3d-9958-423b-941e-337dc72c0370",
   "metadata": {},
   "outputs": [
    {
     "name": "stdout",
     "output_type": "stream",
     "text": [
      "add_to_2(2) = 4\n",
      "add_to_2(3) = 5\n",
      "add_to_3(3) = 6\n",
      "add_to_3(4) = 7\n"
     ]
    }
   ],
   "source": [
    "add_to = lambda x: lambda y: x + y\n",
    "\n",
    "add_to_2 = add_to(2)\n",
    "add_to_3 = add_to(3)\n",
    "\n",
    "print(f\"{add_to_2(2) = }\")\n",
    "print(f\"{add_to_2(3) = }\")\n",
    "print(f\"{add_to_3(3) = }\")\n",
    "print(f\"{add_to_3(4) = }\")"
   ]
  },
  {
   "cell_type": "markdown",
   "id": "c14ee6e4-e28a-48d2-b387-1d2145b10b41",
   "metadata": {},
   "source": [
    "## Partial Functions\n",
    "\n",
    "- [Partial Functions](https://en.wikipedia.org/wiki/Partial_function) in mathematics and computer science are functions that do not provide an output for every possible input value they can accept. In other words, they are not defined for every input value.\n",
    "- In programming, a partial function can be a method or computation that does not return a valid result for some input values or throws an exception.\n",
    "- Partial functions are used in many programming languages, including functional programming languages like Scala and Haskell. They can be useful in scenarios where a function can only accept a limited set of values.\n",
    "- They contrast with total functions, which provide an output for every possible input.\n",
    "- Care must be taken when using partial functions, as calling a partial function with an unsupported input can lead to runtime errors. Many functional programming languages provide tools to handle these scenarios and avoid potential issues.\n",
    "- In some programming languages, there are ways to convert a partial function to a total function by defining the function's behavior for all possible inputs. This is often done by returning a special value or a wrapped result (like an Option type in Scala) for unsupported inputs."
   ]
  },
  {
   "cell_type": "code",
   "execution_count": 4,
   "id": "d1253b9f-86aa-4453-90a5-0a1bf47cf1e6",
   "metadata": {
    "editable": true,
    "slideshow": {
     "slide_type": ""
    },
    "tags": [
     "raises-exception"
    ]
   },
   "outputs": [
    {
     "name": "stdout",
     "output_type": "stream",
     "text": [
      "divide(10, 2) = 5.0\n"
     ]
    },
    {
     "ename": "ZeroDivisionError",
     "evalue": "division by zero",
     "output_type": "error",
     "traceback": [
      "\u001b[1;31m---------------------------------------------------------------------------\u001b[0m",
      "\u001b[1;31mZeroDivisionError\u001b[0m                         Traceback (most recent call last)",
      "Cell \u001b[1;32mIn[4], line 7\u001b[0m\n\u001b[0;32m      4\u001b[0m \u001b[38;5;28mprint\u001b[39m(\u001b[38;5;124mf\u001b[39m\u001b[38;5;124m\"\u001b[39m\u001b[38;5;132;01m{\u001b[39;00mdivide(\u001b[38;5;241m10\u001b[39m,\u001b[38;5;250m \u001b[39m\u001b[38;5;241m2\u001b[39m)\u001b[38;5;250m \u001b[39m\u001b[38;5;132;01m= }\u001b[39;00m\u001b[38;5;124m\"\u001b[39m)\n\u001b[0;32m      6\u001b[0m \u001b[38;5;66;03m# This will raise a ValueError, as division by zero is undefined.\u001b[39;00m\n\u001b[1;32m----> 7\u001b[0m \u001b[38;5;28mprint\u001b[39m(\u001b[38;5;124mf\u001b[39m\u001b[38;5;124m\"\u001b[39m\u001b[38;5;132;01m{\u001b[39;00mdivide(\u001b[38;5;241m10\u001b[39m,\u001b[38;5;250m \u001b[39m\u001b[38;5;241m0\u001b[39m)\u001b[38;5;250m \u001b[39m\u001b[38;5;132;01m= }\u001b[39;00m\u001b[38;5;124m\"\u001b[39m)\n",
      "Cell \u001b[1;32mIn[4], line 2\u001b[0m, in \u001b[0;36mdivide\u001b[1;34m(x, y)\u001b[0m\n\u001b[0;32m      1\u001b[0m \u001b[38;5;28;01mdef\u001b[39;00m \u001b[38;5;21mdivide\u001b[39m(x, y):\n\u001b[1;32m----> 2\u001b[0m     \u001b[38;5;28;01mreturn\u001b[39;00m \u001b[43mx\u001b[49m\u001b[43m \u001b[49m\u001b[38;5;241;43m/\u001b[39;49m\u001b[43m \u001b[49m\u001b[43my\u001b[49m\n",
      "\u001b[1;31mZeroDivisionError\u001b[0m: division by zero"
     ]
    }
   ],
   "source": [
    "def divide(x, y):\n",
    "    return x / y\n",
    "\n",
    "print(f\"{divide(10, 2) = }\")\n",
    "\n",
    "# This will raise a ValueError, as division by zero is undefined.\n",
    "print(f\"{divide(10, 0) = }\")"
   ]
  },
  {
   "cell_type": "markdown",
   "id": "8e50c56b-18fc-4e4f-967f-450be8de1892",
   "metadata": {
    "editable": true,
    "slideshow": {
     "slide_type": ""
    },
    "tags": []
   },
   "source": [
    "## Partial Application\n",
    "\n",
    "- [Partial Application](https://en.wikipedia.org/wiki/Partial_application) in functional programming is a technique where a function is called with fewer arguments than it expects, returning a new function that takes the remaining arguments.\n",
    "- It contrasts with full application, where a function is applied to all of its arguments in a single call.\n",
    "- Partial application is often used in functional programming languages to create simpler functions from more complex ones, or to fix some arguments of a function, making it easier to use.\n",
    "- It can be used to simplify code by reducing redundancy and the need for explicit parameter passing.\n",
    "- However, it must be used with care, as the resulting function will have a different signature (number and type of parameters) than the original function. Incorrect usage can lead to confusion and potential runtime errors."
   ]
  },
  {
   "cell_type": "code",
   "execution_count": 5,
   "id": "bdb57cff-bc04-4dea-818d-46aeadab0361",
   "metadata": {
    "editable": true,
    "slideshow": {
     "slide_type": ""
    },
    "tags": []
   },
   "outputs": [
    {
     "name": "stdout",
     "output_type": "stream",
     "text": [
      "square(3) = 9\n",
      "square(4) = 16\n",
      "cube(3) = 27\n",
      "cube(4) = 64\n"
     ]
    }
   ],
   "source": [
    "from functools import partial\n",
    "\n",
    "\n",
    "def power(pow, number):\n",
    "    return number ** pow\n",
    "\n",
    "\n",
    "square = partial(power, 2)\n",
    "cube = partial(power, 3)\n",
    "\n",
    "print(f\"{square(3) = }\")\n",
    "print(f\"{square(4) = }\")\n",
    "print(f\"{cube(3) = }\")\n",
    "print(f\"{cube(4) = }\")"
   ]
  },
  {
   "cell_type": "markdown",
   "id": "7e365a3e-fe63-47ca-9afb-d07802ac2273",
   "metadata": {},
   "source": [
    "Beware while using partial function in Python as they can lead to unexpected errors."
   ]
  },
  {
   "cell_type": "markdown",
   "id": "30060149-3056-4202-a45b-cbc8faa84ae4",
   "metadata": {},
   "source": [
    "**Lambda version:**"
   ]
  },
  {
   "cell_type": "code",
   "execution_count": 6,
   "id": "dab43be1-f38b-42ec-be9e-45798254c217",
   "metadata": {},
   "outputs": [
    {
     "name": "stdout",
     "output_type": "stream",
     "text": [
      "square(3) = 9\n",
      "square(4) = 16\n",
      "cube(3) = 27\n",
      "cube(4) = 64\n"
     ]
    }
   ],
   "source": [
    "power = lambda pow, number: number**pow\n",
    "\n",
    "square = partial(power, 2)\n",
    "cube = partial(power, 3)\n",
    "\n",
    "print(f\"{square(3) = }\")\n",
    "print(f\"{square(4) = }\")\n",
    "print(f\"{cube(3) = }\")\n",
    "print(f\"{cube(4) = }\")"
   ]
  },
  {
   "cell_type": "markdown",
   "id": "6d1dcae4-598c-488e-bf2d-d48612dc08e7",
   "metadata": {},
   "source": [
    "## Currying\n",
    "\n",
    "- [Currying](https://en.wikipedia.org/wiki/Currying) is a technique in functional programming where a function with multiple arguments is transformed into a sequence of functions, each with a single argument.\n",
    "- For example, a function that takes two arguments, `x` and `y`, would be transformed into a function that takes `x` and returns a new function that takes `y`.\n",
    "- Currying is used in functional programming languages like Haskell and JavaScript to transform multi-argument functions into chainable single-argument functions.\n",
    "- It allows for more flexible function calls and can lead to cleaner, more readable code.\n",
    "- Currying is closely related to partial application, a technique where a function is fixed with a set of arguments and returns a new function that takes the remaining arguments."
   ]
  },
  {
   "cell_type": "code",
   "execution_count": 7,
   "id": "76be9e43-537a-412d-a3ff-905ae92def81",
   "metadata": {
    "editable": true,
    "slideshow": {
     "slide_type": ""
    },
    "tags": []
   },
   "outputs": [
    {
     "name": "stdout",
     "output_type": "stream",
     "text": [
      "curried_sum(2)(2) = 4\n",
      "curried_sum(2)(3) = 5\n",
      "curried_sum(3)(3) = 6\n",
      "curried_sum(3)(4) = 7\n"
     ]
    }
   ],
   "source": [
    "def curried_sum(x):\n",
    "    def inner(y):\n",
    "        return x + y\n",
    "\n",
    "    return inner\n",
    "\n",
    "\n",
    "print(f\"{curried_sum(2)(2) = }\")\n",
    "print(f\"{curried_sum(2)(3) = }\")\n",
    "print(f\"{curried_sum(3)(3) = }\")\n",
    "print(f\"{curried_sum(3)(4) = }\")"
   ]
  },
  {
   "cell_type": "markdown",
   "id": "ec6183da-ee3b-4103-bc0e-f8f49144e093",
   "metadata": {},
   "source": [
    "Python have a open-source library called [`toolz`](https://github.com/pytoolz/toolz/) which can be used enable automatic currying for an existing function."
   ]
  },
  {
   "cell_type": "code",
   "execution_count": 8,
   "id": "74bc374d-fb72-4592-9168-c80ea9f362da",
   "metadata": {},
   "outputs": [
    {
     "name": "stdout",
     "output_type": "stream",
     "text": [
      "add(1, 2, 3) = 6\n",
      "\n",
      "add(1, 2) = <function add at 0x000002303EAEB280>\n",
      "add(1, 2)(3) = 6\n",
      "\n",
      "add(1) = <function add at 0x000002303EAEB280>\n",
      "add(1)(2) = <function add at 0x000002303EAEB280>\n",
      "add(1)(2)(3) = 6\n"
     ]
    }
   ],
   "source": [
    "from toolz import curry\n",
    "\n",
    "\n",
    "@curry\n",
    "def add(x, y, z):\n",
    "    return x + y + z\n",
    "\n",
    "\n",
    "print(f\"{add(1, 2, 3) = }\")\n",
    "print()\n",
    "print(f\"{add(1, 2) = }\")\n",
    "print(f\"{add(1, 2)(3) = }\")\n",
    "print()\n",
    "print(f\"{add(1) = }\")\n",
    "print(f\"{add(1)(2) = }\")\n",
    "print(f\"{add(1)(2)(3) = }\")"
   ]
  },
  {
   "cell_type": "markdown",
   "id": "4575c098-9b91-4112-aa66-cd0dd4faa638",
   "metadata": {},
   "source": [
    "[<< [Function Types and Properties](./06_function_types_and_Properties.ipynb) | [Index](./00_index.ipynb) | [Functional Programming and OOP Intersection](./08_functional_programming_and_oop.ipynb) >>]"
   ]
  }
 ],
 "metadata": {
  "kernelspec": {
   "display_name": "Python 3 (ipykernel)",
   "language": "python",
   "name": "python3"
  },
  "language_info": {
   "codemirror_mode": {
    "name": "ipython",
    "version": 3
   },
   "file_extension": ".py",
   "mimetype": "text/x-python",
   "name": "python",
   "nbconvert_exporter": "python",
   "pygments_lexer": "ipython3",
   "version": "3.8.10"
  }
 },
 "nbformat": 4,
 "nbformat_minor": 5
}
