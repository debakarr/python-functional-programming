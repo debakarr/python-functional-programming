{
 "cells": [
  {
   "cell_type": "markdown",
   "id": "3a73dd71-16f4-4d02-acaf-717de9b84f50",
   "metadata": {},
   "source": [
    "[<< [Function Types and Properties](./06_function_types_and_Properties.ipynb) | [Index](./00_index.ipynb) | [Functional Programming and OOP Intersection](./08_functional_programming_and_oop.ipynb) >>]"
   ]
  },
  {
   "cell_type": "markdown",
   "id": "06ddb835-c5e4-4ffd-a7d4-1bebce485579",
   "metadata": {},
   "source": [
    "# More intermediate functional concepts"
   ]
  },
  {
   "cell_type": "markdown",
   "id": "7f4bc040-47a1-4270-8b25-eee9b961af44",
   "metadata": {},
   "source": [
    "## Closures\n",
    "\n",
    "- A [Closure](https://en.wikipedia.org/wiki/Closure_(computer_programming)) in functional programming is a function that has access to variables from its outer (enclosing) function's scope even after the outer function has returned.\n",
    "- This behavior allows the function to \"remember\" the environment in which it was created.\n",
    "- Closures are used in various programming paradigms, but they are a crucial feature in functional programming languages like JavaScript, Python, and Scala.\n",
    "- They are often used for data hiding and encapsulation, as well as in callback functions and functional programming constructs like currying."
   ]
  },
  {
   "cell_type": "markdown",
   "id": "4117dc19-fef3-4ed2-a2b0-3a1ede8110b9",
   "metadata": {},
   "source": [
    "[**Objects are merely a poor man's closures and closures are a poor man's object**](https://wiki.c2.com/?ClosuresAndObjectsAreEquivalent)"
   ]
  },
  {
   "cell_type": "code",
   "execution_count": 1,
   "id": "3a9b9e0c-3e73-43fb-be2f-31090d67a40a",
   "metadata": {},
   "outputs": [],
   "source": [
    "def add_to(x):\n",
    "    def add(y):\n",
    "        return x + y\n",
    "\n",
    "    return add"
   ]
  },
  {
   "cell_type": "code",
   "execution_count": 2,
   "id": "c1cdc906-ac05-4509-81c4-8ada44ee539e",
   "metadata": {},
   "outputs": [
    {
     "name": "stdout",
     "output_type": "stream",
     "text": [
      "add_to_2(2) = 4\n",
      "add_to_2(3) = 5\n",
      "add_to_3(3) = 6\n",
      "add_to_3(4) = 7\n"
     ]
    }
   ],
   "source": [
    "add_to_2 = add_to(2)\n",
    "add_to_3 = add_to(3)\n",
    "\n",
    "print(f\"{add_to_2(2) = }\")\n",
    "print(f\"{add_to_2(3) = }\")\n",
    "print(f\"{add_to_3(3) = }\")\n",
    "print(f\"{add_to_3(4) = }\")"
   ]
  },
  {
   "cell_type": "markdown",
   "id": "3401ecc1-212b-473b-9953-49b534276475",
   "metadata": {},
   "source": [
    "In the example, we have a function `add_to(x)` that creates and returns another function `add(y)`. This inner function `add(y)` closes over the variable `x` from its outer scope, forming a closure. The closure remembers the value of `x` even after the outer function has finished executing.\n",
    "\n",
    "In this case, the closure `add(y)` is acting like an object, with `x` being its state (like an object's attribute) and the function `add(y)` itself being its behavior (like an object's method). You can create multiple \"instances\" of this \"object\" with different states, like so:\n",
    "\n",
    "```python\n",
    "add_to_2 = add_to(2)  # \"Object\" where x is 2\n",
    "add_to_3 = add_to(3)  # \"Object\" where x is 3\n",
    "```\n",
    "\n",
    "Also note that The Python garbage collector does not deallocate the closure and its underlying variables because there is at least one reference to it, which prevents it from being garbage collected."
   ]
  },
  {
   "cell_type": "markdown",
   "id": "5dd3c5fc-0deb-4d4f-a9de-5fbbad58ed7f",
   "metadata": {},
   "source": [
    "**Lamda version**:"
   ]
  },
  {
   "cell_type": "code",
   "execution_count": 3,
   "id": "0f4dff3d-9958-423b-941e-337dc72c0370",
   "metadata": {},
   "outputs": [
    {
     "name": "stdout",
     "output_type": "stream",
     "text": [
      "add_to_2(2) = 4\n",
      "add_to_2(3) = 5\n",
      "add_to_3(3) = 6\n",
      "add_to_3(4) = 7\n"
     ]
    }
   ],
   "source": [
    "add_to = lambda x: lambda y: x + y\n",
    "\n",
    "add_to_2 = add_to(2)\n",
    "add_to_3 = add_to(3)\n",
    "\n",
    "print(f\"{add_to_2(2) = }\")\n",
    "print(f\"{add_to_2(3) = }\")\n",
    "print(f\"{add_to_3(3) = }\")\n",
    "print(f\"{add_to_3(4) = }\")"
   ]
  },
  {
   "cell_type": "markdown",
   "id": "8e50c56b-18fc-4e4f-967f-450be8de1892",
   "metadata": {},
   "source": [
    "## Partial Application\n",
    "\n",
    "- [Partial Application](https://en.wikipedia.org/wiki/Partial_application) in functional programming is a technique where a function is called with fewer arguments than it expects, returning a new function that takes the remaining arguments.\n",
    "- It contrasts with full application, where a function is applied to all of its arguments in a single call.\n",
    "- Partial application is often used in functional programming languages to create simpler functions from more complex ones, or to fix some arguments of a function, making it easier to use.\n",
    "- It can be used to simplify code by reducing redundancy and the need for explicit parameter passing.\n",
    "- However, it must be used with care, as the resulting function will have a different signature (number and type of parameters) than the original function. Incorrect usage can lead to confusion and potential runtime errors."
   ]
  },
  {
   "cell_type": "code",
   "execution_count": 4,
   "id": "bdb57cff-bc04-4dea-818d-46aeadab0361",
   "metadata": {},
   "outputs": [
    {
     "name": "stdout",
     "output_type": "stream",
     "text": [
      "square(3) = 9\n",
      "square(4) = 16\n",
      "cube(3) = 27\n",
      "cube(4) = 64\n"
     ]
    }
   ],
   "source": [
    "from functools import partial\n",
    "\n",
    "\n",
    "def power(pow, number):\n",
    "    return number**pow\n",
    "\n",
    "\n",
    "square = partial(power, 2)\n",
    "cube = partial(power, 3)\n",
    "\n",
    "print(f\"{square(3) = }\")\n",
    "print(f\"{square(4) = }\")\n",
    "print(f\"{cube(3) = }\")\n",
    "print(f\"{cube(4) = }\")"
   ]
  },
  {
   "cell_type": "markdown",
   "id": "7e365a3e-fe63-47ca-9afb-d07802ac2273",
   "metadata": {},
   "source": [
    "Beware while using partial function in Python as they can lead to unexpected errors."
   ]
  },
  {
   "cell_type": "markdown",
   "id": "30060149-3056-4202-a45b-cbc8faa84ae4",
   "metadata": {},
   "source": [
    "**Lambda version:**"
   ]
  },
  {
   "cell_type": "code",
   "execution_count": 5,
   "id": "dab43be1-f38b-42ec-be9e-45798254c217",
   "metadata": {},
   "outputs": [
    {
     "name": "stdout",
     "output_type": "stream",
     "text": [
      "square(3) = 9\n",
      "square(4) = 16\n",
      "cube(3) = 27\n",
      "cube(4) = 64\n"
     ]
    }
   ],
   "source": [
    "power = lambda pow, number: number**pow\n",
    "\n",
    "square = partial(power, 2)\n",
    "cube = partial(power, 3)\n",
    "\n",
    "print(f\"{square(3) = }\")\n",
    "print(f\"{square(4) = }\")\n",
    "print(f\"{cube(3) = }\")\n",
    "print(f\"{cube(4) = }\")"
   ]
  },
  {
   "cell_type": "markdown",
   "id": "6d1dcae4-598c-488e-bf2d-d48612dc08e7",
   "metadata": {},
   "source": [
    "## Currying\n",
    "\n",
    "- [Currying](https://en.wikipedia.org/wiki/Currying) is a technique in functional programming where a function with multiple arguments is transformed into a sequence of functions, each with a single argument.\n",
    "- For example, a function that takes two arguments, `x` and `y`, would be transformed into a function that takes `x` and returns a new function that takes `y`.\n",
    "- Currying is used in functional programming languages like Haskell and JavaScript to transform multi-argument functions into chainable single-argument functions.\n",
    "- It allows for more flexible function calls and can lead to cleaner, more readable code.\n",
    "- Currying is closely related to partial application, a technique where a function is fixed with a set of arguments and returns a new function that takes the remaining arguments."
   ]
  },
  {
   "cell_type": "code",
   "execution_count": 6,
   "id": "76be9e43-537a-412d-a3ff-905ae92def81",
   "metadata": {},
   "outputs": [
    {
     "name": "stdout",
     "output_type": "stream",
     "text": [
      "curried_sum(2)(2) = 4\n",
      "curried_sum(2)(3) = 5\n",
      "curried_sum(3)(3) = 6\n",
      "curried_sum(3)(4) = 7\n"
     ]
    }
   ],
   "source": [
    "def curried_sum(x):\n",
    "    def inner(y):\n",
    "        return x + y\n",
    "\n",
    "    return inner\n",
    "\n",
    "\n",
    "print(f\"{curried_sum(2)(2) = }\")\n",
    "print(f\"{curried_sum(2)(3) = }\")\n",
    "print(f\"{curried_sum(3)(3) = }\")\n",
    "print(f\"{curried_sum(3)(4) = }\")"
   ]
  },
  {
   "cell_type": "markdown",
   "id": "ec6183da-ee3b-4103-bc0e-f8f49144e093",
   "metadata": {},
   "source": [
    "Python have a open-source library called `toolz` which can be used enable automatic currying for an existing function."
   ]
  },
  {
   "cell_type": "code",
   "execution_count": 7,
   "id": "74bc374d-fb72-4592-9168-c80ea9f362da",
   "metadata": {},
   "outputs": [
    {
     "name": "stdout",
     "output_type": "stream",
     "text": [
      "add(1, 2, 3) = 6\n",
      "\n",
      "add(1, 2) = <function add at 0x0000028125DFF6D0>\n",
      "add(1, 2)(3) = 6\n",
      "\n",
      "add(1) = <function add at 0x0000028125DFF6D0>\n",
      "add(1)(2) = <function add at 0x0000028125DFF6D0>\n",
      "add(1)(2)(3) = 6\n"
     ]
    }
   ],
   "source": [
    "from toolz import curry\n",
    "\n",
    "\n",
    "@curry\n",
    "def add(x, y, z):\n",
    "    return x + y + z\n",
    "\n",
    "\n",
    "print(f\"{add(1, 2, 3) = }\")\n",
    "print()\n",
    "print(f\"{add(1, 2) = }\")\n",
    "print(f\"{add(1, 2)(3) = }\")\n",
    "print()\n",
    "print(f\"{add(1) = }\")\n",
    "print(f\"{add(1)(2) = }\")\n",
    "print(f\"{add(1)(2)(3) = }\")"
   ]
  },
  {
   "cell_type": "markdown",
   "id": "4575c098-9b91-4112-aa66-cd0dd4faa638",
   "metadata": {},
   "source": [
    "[<< [Function Types and Properties](./06_function_types_and_Properties.ipynb) | [Index](./00_index.ipynb) | [Functional Programming and OOP Intersection](./08_functional_programming_and_oop.ipynb) >>]"
   ]
  }
 ],
 "metadata": {
  "kernelspec": {
   "display_name": "Python 3 (ipykernel)",
   "language": "python",
   "name": "python3"
  },
  "language_info": {
   "codemirror_mode": {
    "name": "ipython",
    "version": 3
   },
   "file_extension": ".py",
   "mimetype": "text/x-python",
   "name": "python",
   "nbconvert_exporter": "python",
   "pygments_lexer": "ipython3",
   "version": "3.10.11"
  }
 },
 "nbformat": 4,
 "nbformat_minor": 5
}
